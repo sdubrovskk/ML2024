{
 "cells": [
  {
   "cell_type": "markdown",
   "metadata": {},
   "source": [
    "# **Страхование автомобилей**\n",
    "\n",
    "Предположим, страховая компания в целях прогнозирования своей работы хочет узнать информацию о возникновении страхового случая у клиента, наступит он или нет. Источник данных: https://www.kaggle.com/datasets/sagnik1511/car-insurance-data"
   ]
  },
  {
   "cell_type": "code",
   "execution_count": 2,
   "metadata": {},
   "outputs": [],
   "source": [
    "import numpy as np              \n",
    "import matplotlib.pyplot as plt \n",
    "%matplotlib inline \n",
    "import pandas as pd             \n",
    "import seaborn as sns           \n",
    "import sklearn"
   ]
  },
  {
   "cell_type": "markdown",
   "metadata": {},
   "source": [
    "### **1. Чтение данных**"
   ]
  },
  {
   "cell_type": "code",
   "execution_count": 3,
   "metadata": {},
   "outputs": [],
   "source": [
    "url = \"https://raw.githubusercontent.com/dasha-ludina/m1_machine-learning/main/Car_Insurance_Claim.csv\"\n",
    "data = pd.read_csv(url)"
   ]
  },
  {
   "cell_type": "markdown",
   "metadata": {},
   "source": [
    "Таблица содержит данные о 10000 клиентов страховой компании, включает такую информацию, как время возраст, уровень образования, водительский стаж и т.д.\n",
    "\n",
    "Вначале посмотрим на размеры таблицы - количество строк (каждая строка соответствует одному клиенту) и количество столбцов (каждый столбец соответствует конкретному признаку):"
   ]
  },
  {
   "cell_type": "code",
   "execution_count": 4,
   "metadata": {},
   "outputs": [
    {
     "data": {
      "text/plain": [
       "(10000, 19)"
      ]
     },
     "execution_count": 4,
     "metadata": {},
     "output_type": "execute_result"
    }
   ],
   "source": [
    "data.shape"
   ]
  },
  {
   "cell_type": "markdown",
   "metadata": {},
   "source": [
    "Метод data.head() отображает первые строки (по умолчанию, 5 строк) таблицы"
   ]
  },
  {
   "cell_type": "code",
   "execution_count": 5,
   "metadata": {},
   "outputs": [
    {
     "data": {
      "text/html": [
       "<div>\n",
       "<style scoped>\n",
       "    .dataframe tbody tr th:only-of-type {\n",
       "        vertical-align: middle;\n",
       "    }\n",
       "\n",
       "    .dataframe tbody tr th {\n",
       "        vertical-align: top;\n",
       "    }\n",
       "\n",
       "    .dataframe thead th {\n",
       "        text-align: right;\n",
       "    }\n",
       "</style>\n",
       "<table border=\"1\" class=\"dataframe\">\n",
       "  <thead>\n",
       "    <tr style=\"text-align: right;\">\n",
       "      <th></th>\n",
       "      <th>ID</th>\n",
       "      <th>AGE</th>\n",
       "      <th>GENDER</th>\n",
       "      <th>RACE</th>\n",
       "      <th>DRIVING_EXPERIENCE</th>\n",
       "      <th>EDUCATION</th>\n",
       "      <th>INCOME</th>\n",
       "      <th>CREDIT_SCORE</th>\n",
       "      <th>VEHICLE_OWNERSHIP</th>\n",
       "      <th>VEHICLE_YEAR</th>\n",
       "      <th>MARRIED</th>\n",
       "      <th>CHILDREN</th>\n",
       "      <th>POSTAL_CODE</th>\n",
       "      <th>ANNUAL_MILEAGE</th>\n",
       "      <th>VEHICLE_TYPE</th>\n",
       "      <th>SPEEDING_VIOLATIONS</th>\n",
       "      <th>DUIS</th>\n",
       "      <th>PAST_ACCIDENTS</th>\n",
       "      <th>OUTCOME</th>\n",
       "    </tr>\n",
       "  </thead>\n",
       "  <tbody>\n",
       "    <tr>\n",
       "      <th>0</th>\n",
       "      <td>569520</td>\n",
       "      <td>65+</td>\n",
       "      <td>female</td>\n",
       "      <td>majority</td>\n",
       "      <td>0-9y</td>\n",
       "      <td>high school</td>\n",
       "      <td>upper class</td>\n",
       "      <td>0.629027</td>\n",
       "      <td>1.0</td>\n",
       "      <td>after 2015</td>\n",
       "      <td>0.0</td>\n",
       "      <td>1.0</td>\n",
       "      <td>10238</td>\n",
       "      <td>12000.0</td>\n",
       "      <td>sedan</td>\n",
       "      <td>0</td>\n",
       "      <td>0</td>\n",
       "      <td>0</td>\n",
       "      <td>0.0</td>\n",
       "    </tr>\n",
       "    <tr>\n",
       "      <th>1</th>\n",
       "      <td>750365</td>\n",
       "      <td>16-25</td>\n",
       "      <td>male</td>\n",
       "      <td>majority</td>\n",
       "      <td>0-9y</td>\n",
       "      <td>none</td>\n",
       "      <td>poverty</td>\n",
       "      <td>0.357757</td>\n",
       "      <td>0.0</td>\n",
       "      <td>before 2015</td>\n",
       "      <td>0.0</td>\n",
       "      <td>0.0</td>\n",
       "      <td>10238</td>\n",
       "      <td>16000.0</td>\n",
       "      <td>sedan</td>\n",
       "      <td>0</td>\n",
       "      <td>0</td>\n",
       "      <td>0</td>\n",
       "      <td>1.0</td>\n",
       "    </tr>\n",
       "    <tr>\n",
       "      <th>2</th>\n",
       "      <td>199901</td>\n",
       "      <td>16-25</td>\n",
       "      <td>female</td>\n",
       "      <td>majority</td>\n",
       "      <td>0-9y</td>\n",
       "      <td>high school</td>\n",
       "      <td>working class</td>\n",
       "      <td>0.493146</td>\n",
       "      <td>1.0</td>\n",
       "      <td>before 2015</td>\n",
       "      <td>0.0</td>\n",
       "      <td>0.0</td>\n",
       "      <td>10238</td>\n",
       "      <td>11000.0</td>\n",
       "      <td>sedan</td>\n",
       "      <td>0</td>\n",
       "      <td>0</td>\n",
       "      <td>0</td>\n",
       "      <td>0.0</td>\n",
       "    </tr>\n",
       "    <tr>\n",
       "      <th>3</th>\n",
       "      <td>478866</td>\n",
       "      <td>16-25</td>\n",
       "      <td>male</td>\n",
       "      <td>majority</td>\n",
       "      <td>0-9y</td>\n",
       "      <td>university</td>\n",
       "      <td>working class</td>\n",
       "      <td>0.206013</td>\n",
       "      <td>1.0</td>\n",
       "      <td>before 2015</td>\n",
       "      <td>0.0</td>\n",
       "      <td>1.0</td>\n",
       "      <td>32765</td>\n",
       "      <td>11000.0</td>\n",
       "      <td>sedan</td>\n",
       "      <td>0</td>\n",
       "      <td>0</td>\n",
       "      <td>0</td>\n",
       "      <td>0.0</td>\n",
       "    </tr>\n",
       "    <tr>\n",
       "      <th>4</th>\n",
       "      <td>731664</td>\n",
       "      <td>26-39</td>\n",
       "      <td>male</td>\n",
       "      <td>majority</td>\n",
       "      <td>10-19y</td>\n",
       "      <td>none</td>\n",
       "      <td>working class</td>\n",
       "      <td>0.388366</td>\n",
       "      <td>1.0</td>\n",
       "      <td>before 2015</td>\n",
       "      <td>0.0</td>\n",
       "      <td>0.0</td>\n",
       "      <td>32765</td>\n",
       "      <td>12000.0</td>\n",
       "      <td>sedan</td>\n",
       "      <td>2</td>\n",
       "      <td>0</td>\n",
       "      <td>1</td>\n",
       "      <td>1.0</td>\n",
       "    </tr>\n",
       "  </tbody>\n",
       "</table>\n",
       "</div>"
      ],
      "text/plain": [
       "       ID    AGE  GENDER      RACE DRIVING_EXPERIENCE    EDUCATION  \\\n",
       "0  569520    65+  female  majority               0-9y  high school   \n",
       "1  750365  16-25    male  majority               0-9y         none   \n",
       "2  199901  16-25  female  majority               0-9y  high school   \n",
       "3  478866  16-25    male  majority               0-9y   university   \n",
       "4  731664  26-39    male  majority             10-19y         none   \n",
       "\n",
       "          INCOME  CREDIT_SCORE  VEHICLE_OWNERSHIP VEHICLE_YEAR  MARRIED  \\\n",
       "0    upper class      0.629027                1.0   after 2015      0.0   \n",
       "1        poverty      0.357757                0.0  before 2015      0.0   \n",
       "2  working class      0.493146                1.0  before 2015      0.0   \n",
       "3  working class      0.206013                1.0  before 2015      0.0   \n",
       "4  working class      0.388366                1.0  before 2015      0.0   \n",
       "\n",
       "   CHILDREN  POSTAL_CODE  ANNUAL_MILEAGE VEHICLE_TYPE  SPEEDING_VIOLATIONS  \\\n",
       "0       1.0        10238         12000.0        sedan                    0   \n",
       "1       0.0        10238         16000.0        sedan                    0   \n",
       "2       0.0        10238         11000.0        sedan                    0   \n",
       "3       1.0        32765         11000.0        sedan                    0   \n",
       "4       0.0        32765         12000.0        sedan                    2   \n",
       "\n",
       "   DUIS  PAST_ACCIDENTS  OUTCOME  \n",
       "0     0               0      0.0  \n",
       "1     0               0      1.0  \n",
       "2     0               0      0.0  \n",
       "3     0               0      0.0  \n",
       "4     0               1      1.0  "
      ]
     },
     "execution_count": 5,
     "metadata": {},
     "output_type": "execute_result"
    }
   ],
   "source": [
    "data.head()"
   ]
  },
  {
   "cell_type": "markdown",
   "metadata": {},
   "source": [
    "Так же можно вывести последние строки (по умолчанию, 5 строк) таблицы"
   ]
  },
  {
   "cell_type": "code",
   "execution_count": 6,
   "metadata": {},
   "outputs": [
    {
     "data": {
      "text/html": [
       "<div>\n",
       "<style scoped>\n",
       "    .dataframe tbody tr th:only-of-type {\n",
       "        vertical-align: middle;\n",
       "    }\n",
       "\n",
       "    .dataframe tbody tr th {\n",
       "        vertical-align: top;\n",
       "    }\n",
       "\n",
       "    .dataframe thead th {\n",
       "        text-align: right;\n",
       "    }\n",
       "</style>\n",
       "<table border=\"1\" class=\"dataframe\">\n",
       "  <thead>\n",
       "    <tr style=\"text-align: right;\">\n",
       "      <th></th>\n",
       "      <th>ID</th>\n",
       "      <th>AGE</th>\n",
       "      <th>GENDER</th>\n",
       "      <th>RACE</th>\n",
       "      <th>DRIVING_EXPERIENCE</th>\n",
       "      <th>EDUCATION</th>\n",
       "      <th>INCOME</th>\n",
       "      <th>CREDIT_SCORE</th>\n",
       "      <th>VEHICLE_OWNERSHIP</th>\n",
       "      <th>VEHICLE_YEAR</th>\n",
       "      <th>MARRIED</th>\n",
       "      <th>CHILDREN</th>\n",
       "      <th>POSTAL_CODE</th>\n",
       "      <th>ANNUAL_MILEAGE</th>\n",
       "      <th>VEHICLE_TYPE</th>\n",
       "      <th>SPEEDING_VIOLATIONS</th>\n",
       "      <th>DUIS</th>\n",
       "      <th>PAST_ACCIDENTS</th>\n",
       "      <th>OUTCOME</th>\n",
       "    </tr>\n",
       "  </thead>\n",
       "  <tbody>\n",
       "    <tr>\n",
       "      <th>9995</th>\n",
       "      <td>323164</td>\n",
       "      <td>26-39</td>\n",
       "      <td>female</td>\n",
       "      <td>majority</td>\n",
       "      <td>10-19y</td>\n",
       "      <td>university</td>\n",
       "      <td>upper class</td>\n",
       "      <td>0.582787</td>\n",
       "      <td>1.0</td>\n",
       "      <td>before 2015</td>\n",
       "      <td>0.0</td>\n",
       "      <td>0.0</td>\n",
       "      <td>10238</td>\n",
       "      <td>16000.0</td>\n",
       "      <td>sedan</td>\n",
       "      <td>0</td>\n",
       "      <td>0</td>\n",
       "      <td>1</td>\n",
       "      <td>0.0</td>\n",
       "    </tr>\n",
       "    <tr>\n",
       "      <th>9996</th>\n",
       "      <td>910346</td>\n",
       "      <td>26-39</td>\n",
       "      <td>female</td>\n",
       "      <td>majority</td>\n",
       "      <td>10-19y</td>\n",
       "      <td>none</td>\n",
       "      <td>middle class</td>\n",
       "      <td>0.522231</td>\n",
       "      <td>1.0</td>\n",
       "      <td>after 2015</td>\n",
       "      <td>0.0</td>\n",
       "      <td>1.0</td>\n",
       "      <td>32765</td>\n",
       "      <td>NaN</td>\n",
       "      <td>sedan</td>\n",
       "      <td>1</td>\n",
       "      <td>0</td>\n",
       "      <td>0</td>\n",
       "      <td>0.0</td>\n",
       "    </tr>\n",
       "    <tr>\n",
       "      <th>9997</th>\n",
       "      <td>468409</td>\n",
       "      <td>26-39</td>\n",
       "      <td>male</td>\n",
       "      <td>majority</td>\n",
       "      <td>0-9y</td>\n",
       "      <td>high school</td>\n",
       "      <td>middle class</td>\n",
       "      <td>0.470940</td>\n",
       "      <td>1.0</td>\n",
       "      <td>before 2015</td>\n",
       "      <td>0.0</td>\n",
       "      <td>1.0</td>\n",
       "      <td>10238</td>\n",
       "      <td>14000.0</td>\n",
       "      <td>sedan</td>\n",
       "      <td>0</td>\n",
       "      <td>0</td>\n",
       "      <td>0</td>\n",
       "      <td>0.0</td>\n",
       "    </tr>\n",
       "    <tr>\n",
       "      <th>9998</th>\n",
       "      <td>903459</td>\n",
       "      <td>26-39</td>\n",
       "      <td>female</td>\n",
       "      <td>majority</td>\n",
       "      <td>10-19y</td>\n",
       "      <td>high school</td>\n",
       "      <td>poverty</td>\n",
       "      <td>0.364185</td>\n",
       "      <td>0.0</td>\n",
       "      <td>before 2015</td>\n",
       "      <td>0.0</td>\n",
       "      <td>1.0</td>\n",
       "      <td>10238</td>\n",
       "      <td>13000.0</td>\n",
       "      <td>sedan</td>\n",
       "      <td>2</td>\n",
       "      <td>0</td>\n",
       "      <td>1</td>\n",
       "      <td>1.0</td>\n",
       "    </tr>\n",
       "    <tr>\n",
       "      <th>9999</th>\n",
       "      <td>442696</td>\n",
       "      <td>26-39</td>\n",
       "      <td>female</td>\n",
       "      <td>majority</td>\n",
       "      <td>0-9y</td>\n",
       "      <td>none</td>\n",
       "      <td>working class</td>\n",
       "      <td>0.435225</td>\n",
       "      <td>1.0</td>\n",
       "      <td>before 2015</td>\n",
       "      <td>1.0</td>\n",
       "      <td>1.0</td>\n",
       "      <td>10238</td>\n",
       "      <td>13000.0</td>\n",
       "      <td>sedan</td>\n",
       "      <td>0</td>\n",
       "      <td>0</td>\n",
       "      <td>0</td>\n",
       "      <td>0.0</td>\n",
       "    </tr>\n",
       "  </tbody>\n",
       "</table>\n",
       "</div>"
      ],
      "text/plain": [
       "          ID    AGE  GENDER      RACE DRIVING_EXPERIENCE    EDUCATION  \\\n",
       "9995  323164  26-39  female  majority             10-19y   university   \n",
       "9996  910346  26-39  female  majority             10-19y         none   \n",
       "9997  468409  26-39    male  majority               0-9y  high school   \n",
       "9998  903459  26-39  female  majority             10-19y  high school   \n",
       "9999  442696  26-39  female  majority               0-9y         none   \n",
       "\n",
       "             INCOME  CREDIT_SCORE  VEHICLE_OWNERSHIP VEHICLE_YEAR  MARRIED  \\\n",
       "9995    upper class      0.582787                1.0  before 2015      0.0   \n",
       "9996   middle class      0.522231                1.0   after 2015      0.0   \n",
       "9997   middle class      0.470940                1.0  before 2015      0.0   \n",
       "9998        poverty      0.364185                0.0  before 2015      0.0   \n",
       "9999  working class      0.435225                1.0  before 2015      1.0   \n",
       "\n",
       "      CHILDREN  POSTAL_CODE  ANNUAL_MILEAGE VEHICLE_TYPE  SPEEDING_VIOLATIONS  \\\n",
       "9995       0.0        10238         16000.0        sedan                    0   \n",
       "9996       1.0        32765             NaN        sedan                    1   \n",
       "9997       1.0        10238         14000.0        sedan                    0   \n",
       "9998       1.0        10238         13000.0        sedan                    2   \n",
       "9999       1.0        10238         13000.0        sedan                    0   \n",
       "\n",
       "      DUIS  PAST_ACCIDENTS  OUTCOME  \n",
       "9995     0               1      0.0  \n",
       "9996     0               0      0.0  \n",
       "9997     0               0      0.0  \n",
       "9998     0               1      1.0  \n",
       "9999     0               0      0.0  "
      ]
     },
     "execution_count": 6,
     "metadata": {},
     "output_type": "execute_result"
    }
   ],
   "source": [
    "data.tail()"
   ]
  },
  {
   "cell_type": "markdown",
   "metadata": {},
   "source": [
    "Имена столбцов (признаков) можно получить таким образом:"
   ]
  },
  {
   "cell_type": "code",
   "execution_count": 7,
   "metadata": {},
   "outputs": [
    {
     "data": {
      "text/plain": [
       "Index(['ID', 'AGE', 'GENDER', 'RACE', 'DRIVING_EXPERIENCE', 'EDUCATION',\n",
       "       'INCOME', 'CREDIT_SCORE', 'VEHICLE_OWNERSHIP', 'VEHICLE_YEAR',\n",
       "       'MARRIED', 'CHILDREN', 'POSTAL_CODE', 'ANNUAL_MILEAGE', 'VEHICLE_TYPE',\n",
       "       'SPEEDING_VIOLATIONS', 'DUIS', 'PAST_ACCIDENTS', 'OUTCOME'],\n",
       "      dtype='object')"
      ]
     },
     "execution_count": 7,
     "metadata": {},
     "output_type": "execute_result"
    }
   ],
   "source": [
    "data.columns"
   ]
  },
  {
   "cell_type": "markdown",
   "metadata": {},
   "source": [
    "Мы видим, что столбцы (признаки) имеют имена\n",
    "\n",
    "\n",
    "*   ID - индентификатор клиента\n",
    "*   AGE - возраст \n",
    "*   GENDER - пол \n",
    "*   RACE - стиль вождения\n",
    "*   DRIVING_EXPERIENCE - стаж вождения\n",
    "*   EDUCATION - образование\n",
    "*   INCOME - уровень дохода\n",
    "*   CREDIT_SCORE - кредитный рейтинг\n",
    "*   VEHICLE_OWNERSHIP - владение автомобилем\n",
    "*   VEHICLE_YEAR - год выпуска автомобиля\n",
    "*   MARRIED - семейное положение\n",
    "*   CHILDREN - наличие детей\n",
    "*   POSTAL_CODE - почтовый индекс\n",
    "*   ANNUAL_MILEAGE - годовой пробег автомобиля\n",
    "*   VEHICLE_TYPE - тип автомобиля\n",
    "*   SPEEDING_VIOLATIONS - количество штрафов\n",
    "*   DUIS - вождение в нетрезвом виде\n",
    "*   PAST_ACCIDENTS - число аварий\n",
    "*   OUTCOME - исход\n",
    "\n",
    "    Это будут наши классы данных, с которыми мы будем работать:\n",
    "    * 0 - не требуется страховая выплата\n",
    "    * 1 - требуется страховая выплата\n",
    "\n",
    "Требуется предсказать бинарный категориальный признак OUTCOME по остальным признакам. Это задача классификации.\n",
    "\n",
    "Выведем тип данных всех столбцов, представленных в таблице:"
   ]
  },
  {
   "cell_type": "code",
   "execution_count": 8,
   "metadata": {},
   "outputs": [
    {
     "data": {
      "text/plain": [
       "ID                       int64\n",
       "AGE                     object\n",
       "GENDER                  object\n",
       "RACE                    object\n",
       "DRIVING_EXPERIENCE      object\n",
       "EDUCATION               object\n",
       "INCOME                  object\n",
       "CREDIT_SCORE           float64\n",
       "VEHICLE_OWNERSHIP      float64\n",
       "VEHICLE_YEAR            object\n",
       "MARRIED                float64\n",
       "CHILDREN               float64\n",
       "POSTAL_CODE              int64\n",
       "ANNUAL_MILEAGE         float64\n",
       "VEHICLE_TYPE            object\n",
       "SPEEDING_VIOLATIONS      int64\n",
       "DUIS                     int64\n",
       "PAST_ACCIDENTS           int64\n",
       "OUTCOME                float64\n",
       "dtype: object"
      ]
     },
     "execution_count": 8,
     "metadata": {},
     "output_type": "execute_result"
    }
   ],
   "source": [
    "data.dtypes"
   ]
  },
  {
   "cell_type": "markdown",
   "metadata": {},
   "source": [
    "Столбцы, имеющие тип 'Object' содержат категориальные значения. Приведём их к специальному типу, предназначенному для хранения категориальных значений."
   ]
  },
  {
   "cell_type": "code",
   "execution_count": 9,
   "metadata": {},
   "outputs": [],
   "source": [
    "data['AGE'] = data['AGE'].astype('category')\n",
    "data['GENDER'] = data['GENDER'].astype('category')\n",
    "data['RACE'] = data['RACE'].astype('category')\n",
    "data['DRIVING_EXPERIENCE'] = data['DRIVING_EXPERIENCE'].astype('category')\n",
    "data['EDUCATION'] = data['EDUCATION'].astype('category')\n",
    "data['INCOME'] = data['INCOME'].astype('category')\n",
    "data['VEHICLE_YEAR'] = data['VEHICLE_YEAR'].astype('category')\n",
    "data['VEHICLE_TYPE'] = data['VEHICLE_TYPE'].astype('category')"
   ]
  },
  {
   "cell_type": "markdown",
   "metadata": {},
   "source": [
    "Изменим тип данных бинарных признаков(в том числе целевой), на bool, чтобы при рассмотрении статистики и визуализации они не входили в обзор вместе с количественными. После этого преобразования соответствующие им столбцы будут иметь значения True или False."
   ]
  },
  {
   "cell_type": "code",
   "execution_count": 10,
   "metadata": {},
   "outputs": [],
   "source": [
    "data[\"VEHICLE_OWNERSHIP\"] = data[\"VEHICLE_OWNERSHIP\"].astype('bool')\n",
    "data[\"MARRIED\"] = data[\"MARRIED\"].astype('bool')\n",
    "data[\"CHILDREN\"] = data[\"CHILDREN\"].astype('bool')\n",
    "data[\"OUTCOME\"] = data[\"OUTCOME\"].astype('bool')"
   ]
  },
  {
   "cell_type": "code",
   "execution_count": 11,
   "metadata": {},
   "outputs": [
    {
     "data": {
      "text/plain": [
       "ID                        int64\n",
       "AGE                    category\n",
       "GENDER                 category\n",
       "RACE                   category\n",
       "DRIVING_EXPERIENCE     category\n",
       "EDUCATION              category\n",
       "INCOME                 category\n",
       "CREDIT_SCORE            float64\n",
       "VEHICLE_OWNERSHIP          bool\n",
       "VEHICLE_YEAR           category\n",
       "MARRIED                    bool\n",
       "CHILDREN                   bool\n",
       "POSTAL_CODE               int64\n",
       "ANNUAL_MILEAGE          float64\n",
       "VEHICLE_TYPE           category\n",
       "SPEEDING_VIOLATIONS       int64\n",
       "DUIS                      int64\n",
       "PAST_ACCIDENTS            int64\n",
       "OUTCOME                    bool\n",
       "dtype: object"
      ]
     },
     "execution_count": 11,
     "metadata": {},
     "output_type": "execute_result"
    }
   ],
   "source": [
    "data.dtypes"
   ]
  },
  {
   "cell_type": "markdown",
   "metadata": {},
   "source": [
    "### **2. Визуализация данных и вычисление основных характеристик**\n",
    "Сводную информацию о признаках можем получить, вызвав метод describe, показывающий количество значений, средние значения, стандартное отклонение, минимальное и макимальное значения, медиана и значения квартилей."
   ]
  },
  {
   "cell_type": "code",
   "execution_count": 12,
   "metadata": {},
   "outputs": [
    {
     "data": {
      "text/html": [
       "<div>\n",
       "<style scoped>\n",
       "    .dataframe tbody tr th:only-of-type {\n",
       "        vertical-align: middle;\n",
       "    }\n",
       "\n",
       "    .dataframe tbody tr th {\n",
       "        vertical-align: top;\n",
       "    }\n",
       "\n",
       "    .dataframe thead th {\n",
       "        text-align: right;\n",
       "    }\n",
       "</style>\n",
       "<table border=\"1\" class=\"dataframe\">\n",
       "  <thead>\n",
       "    <tr style=\"text-align: right;\">\n",
       "      <th></th>\n",
       "      <th>ID</th>\n",
       "      <th>CREDIT_SCORE</th>\n",
       "      <th>POSTAL_CODE</th>\n",
       "      <th>ANNUAL_MILEAGE</th>\n",
       "      <th>SPEEDING_VIOLATIONS</th>\n",
       "      <th>DUIS</th>\n",
       "      <th>PAST_ACCIDENTS</th>\n",
       "    </tr>\n",
       "  </thead>\n",
       "  <tbody>\n",
       "    <tr>\n",
       "      <th>count</th>\n",
       "      <td>10000.000000</td>\n",
       "      <td>9018.000000</td>\n",
       "      <td>10000.000000</td>\n",
       "      <td>9043.000000</td>\n",
       "      <td>10000.000000</td>\n",
       "      <td>10000.00000</td>\n",
       "      <td>10000.000000</td>\n",
       "    </tr>\n",
       "    <tr>\n",
       "      <th>mean</th>\n",
       "      <td>500521.906800</td>\n",
       "      <td>0.515813</td>\n",
       "      <td>19864.548400</td>\n",
       "      <td>11697.003207</td>\n",
       "      <td>1.482900</td>\n",
       "      <td>0.23920</td>\n",
       "      <td>1.056300</td>\n",
       "    </tr>\n",
       "    <tr>\n",
       "      <th>std</th>\n",
       "      <td>290030.768758</td>\n",
       "      <td>0.137688</td>\n",
       "      <td>18915.613855</td>\n",
       "      <td>2818.434528</td>\n",
       "      <td>2.241966</td>\n",
       "      <td>0.55499</td>\n",
       "      <td>1.652454</td>\n",
       "    </tr>\n",
       "    <tr>\n",
       "      <th>min</th>\n",
       "      <td>101.000000</td>\n",
       "      <td>0.053358</td>\n",
       "      <td>10238.000000</td>\n",
       "      <td>2000.000000</td>\n",
       "      <td>0.000000</td>\n",
       "      <td>0.00000</td>\n",
       "      <td>0.000000</td>\n",
       "    </tr>\n",
       "    <tr>\n",
       "      <th>25%</th>\n",
       "      <td>249638.500000</td>\n",
       "      <td>0.417191</td>\n",
       "      <td>10238.000000</td>\n",
       "      <td>10000.000000</td>\n",
       "      <td>0.000000</td>\n",
       "      <td>0.00000</td>\n",
       "      <td>0.000000</td>\n",
       "    </tr>\n",
       "    <tr>\n",
       "      <th>50%</th>\n",
       "      <td>501777.000000</td>\n",
       "      <td>0.525033</td>\n",
       "      <td>10238.000000</td>\n",
       "      <td>12000.000000</td>\n",
       "      <td>0.000000</td>\n",
       "      <td>0.00000</td>\n",
       "      <td>0.000000</td>\n",
       "    </tr>\n",
       "    <tr>\n",
       "      <th>75%</th>\n",
       "      <td>753974.500000</td>\n",
       "      <td>0.618312</td>\n",
       "      <td>32765.000000</td>\n",
       "      <td>14000.000000</td>\n",
       "      <td>2.000000</td>\n",
       "      <td>0.00000</td>\n",
       "      <td>2.000000</td>\n",
       "    </tr>\n",
       "    <tr>\n",
       "      <th>max</th>\n",
       "      <td>999976.000000</td>\n",
       "      <td>0.960819</td>\n",
       "      <td>92101.000000</td>\n",
       "      <td>22000.000000</td>\n",
       "      <td>22.000000</td>\n",
       "      <td>6.00000</td>\n",
       "      <td>15.000000</td>\n",
       "    </tr>\n",
       "  </tbody>\n",
       "</table>\n",
       "</div>"
      ],
      "text/plain": [
       "                  ID  CREDIT_SCORE   POSTAL_CODE  ANNUAL_MILEAGE  \\\n",
       "count   10000.000000   9018.000000  10000.000000     9043.000000   \n",
       "mean   500521.906800      0.515813  19864.548400    11697.003207   \n",
       "std    290030.768758      0.137688  18915.613855     2818.434528   \n",
       "min       101.000000      0.053358  10238.000000     2000.000000   \n",
       "25%    249638.500000      0.417191  10238.000000    10000.000000   \n",
       "50%    501777.000000      0.525033  10238.000000    12000.000000   \n",
       "75%    753974.500000      0.618312  32765.000000    14000.000000   \n",
       "max    999976.000000      0.960819  92101.000000    22000.000000   \n",
       "\n",
       "       SPEEDING_VIOLATIONS         DUIS  PAST_ACCIDENTS  \n",
       "count         10000.000000  10000.00000    10000.000000  \n",
       "mean              1.482900      0.23920        1.056300  \n",
       "std               2.241966      0.55499        1.652454  \n",
       "min               0.000000      0.00000        0.000000  \n",
       "25%               0.000000      0.00000        0.000000  \n",
       "50%               0.000000      0.00000        0.000000  \n",
       "75%               2.000000      0.00000        2.000000  \n",
       "max              22.000000      6.00000       15.000000  "
      ]
     },
     "execution_count": 12,
     "metadata": {},
     "output_type": "execute_result"
    }
   ],
   "source": [
    "data.describe()"
   ]
  },
  {
   "cell_type": "markdown",
   "metadata": {},
   "source": [
    "Из этих данных можно сделать вывод, что большинство обратившихся в страховую компанию ранее не имели зафикированных превышений скорости, не попадали в страховые случаи и не были замечены в вождении в нетрезвом виде.\n",
    "\n",
    "По умолчанию этот метод дает информацию только о количественных признаках. Получим информацию о категориальных, а именно количество значений, количество уникальных значений, самое распространенные значение и частота наиболее распространенного значения."
   ]
  },
  {
   "cell_type": "code",
   "execution_count": 13,
   "metadata": {},
   "outputs": [
    {
     "data": {
      "text/html": [
       "<div>\n",
       "<style scoped>\n",
       "    .dataframe tbody tr th:only-of-type {\n",
       "        vertical-align: middle;\n",
       "    }\n",
       "\n",
       "    .dataframe tbody tr th {\n",
       "        vertical-align: top;\n",
       "    }\n",
       "\n",
       "    .dataframe thead th {\n",
       "        text-align: right;\n",
       "    }\n",
       "</style>\n",
       "<table border=\"1\" class=\"dataframe\">\n",
       "  <thead>\n",
       "    <tr style=\"text-align: right;\">\n",
       "      <th></th>\n",
       "      <th>AGE</th>\n",
       "      <th>GENDER</th>\n",
       "      <th>RACE</th>\n",
       "      <th>DRIVING_EXPERIENCE</th>\n",
       "      <th>EDUCATION</th>\n",
       "      <th>INCOME</th>\n",
       "      <th>VEHICLE_YEAR</th>\n",
       "      <th>VEHICLE_TYPE</th>\n",
       "    </tr>\n",
       "  </thead>\n",
       "  <tbody>\n",
       "    <tr>\n",
       "      <th>count</th>\n",
       "      <td>10000</td>\n",
       "      <td>10000</td>\n",
       "      <td>10000</td>\n",
       "      <td>10000</td>\n",
       "      <td>10000</td>\n",
       "      <td>10000</td>\n",
       "      <td>10000</td>\n",
       "      <td>10000</td>\n",
       "    </tr>\n",
       "    <tr>\n",
       "      <th>unique</th>\n",
       "      <td>4</td>\n",
       "      <td>2</td>\n",
       "      <td>2</td>\n",
       "      <td>4</td>\n",
       "      <td>3</td>\n",
       "      <td>4</td>\n",
       "      <td>2</td>\n",
       "      <td>2</td>\n",
       "    </tr>\n",
       "    <tr>\n",
       "      <th>top</th>\n",
       "      <td>26-39</td>\n",
       "      <td>female</td>\n",
       "      <td>majority</td>\n",
       "      <td>0-9y</td>\n",
       "      <td>high school</td>\n",
       "      <td>upper class</td>\n",
       "      <td>before 2015</td>\n",
       "      <td>sedan</td>\n",
       "    </tr>\n",
       "    <tr>\n",
       "      <th>freq</th>\n",
       "      <td>3063</td>\n",
       "      <td>5010</td>\n",
       "      <td>9012</td>\n",
       "      <td>3530</td>\n",
       "      <td>4157</td>\n",
       "      <td>4336</td>\n",
       "      <td>6967</td>\n",
       "      <td>9523</td>\n",
       "    </tr>\n",
       "  </tbody>\n",
       "</table>\n",
       "</div>"
      ],
      "text/plain": [
       "          AGE  GENDER      RACE DRIVING_EXPERIENCE    EDUCATION       INCOME  \\\n",
       "count   10000   10000     10000              10000        10000        10000   \n",
       "unique      4       2         2                  4            3            4   \n",
       "top     26-39  female  majority               0-9y  high school  upper class   \n",
       "freq     3063    5010      9012               3530         4157         4336   \n",
       "\n",
       "       VEHICLE_YEAR VEHICLE_TYPE  \n",
       "count         10000        10000  \n",
       "unique            2            2  \n",
       "top     before 2015        sedan  \n",
       "freq           6967         9523  "
      ]
     },
     "execution_count": 13,
     "metadata": {},
     "output_type": "execute_result"
    }
   ],
   "source": [
    "data.describe(include=['category'])"
   ]
  },
  {
   "cell_type": "markdown",
   "metadata": {},
   "source": [
    "Получим информацию о бинарных признаках:"
   ]
  },
  {
   "cell_type": "code",
   "execution_count": 14,
   "metadata": {},
   "outputs": [
    {
     "data": {
      "text/html": [
       "<div>\n",
       "<style scoped>\n",
       "    .dataframe tbody tr th:only-of-type {\n",
       "        vertical-align: middle;\n",
       "    }\n",
       "\n",
       "    .dataframe tbody tr th {\n",
       "        vertical-align: top;\n",
       "    }\n",
       "\n",
       "    .dataframe thead th {\n",
       "        text-align: right;\n",
       "    }\n",
       "</style>\n",
       "<table border=\"1\" class=\"dataframe\">\n",
       "  <thead>\n",
       "    <tr style=\"text-align: right;\">\n",
       "      <th></th>\n",
       "      <th>VEHICLE_OWNERSHIP</th>\n",
       "      <th>MARRIED</th>\n",
       "      <th>CHILDREN</th>\n",
       "      <th>OUTCOME</th>\n",
       "    </tr>\n",
       "  </thead>\n",
       "  <tbody>\n",
       "    <tr>\n",
       "      <th>count</th>\n",
       "      <td>10000</td>\n",
       "      <td>10000</td>\n",
       "      <td>10000</td>\n",
       "      <td>10000</td>\n",
       "    </tr>\n",
       "    <tr>\n",
       "      <th>unique</th>\n",
       "      <td>2</td>\n",
       "      <td>2</td>\n",
       "      <td>2</td>\n",
       "      <td>2</td>\n",
       "    </tr>\n",
       "    <tr>\n",
       "      <th>top</th>\n",
       "      <td>True</td>\n",
       "      <td>False</td>\n",
       "      <td>True</td>\n",
       "      <td>False</td>\n",
       "    </tr>\n",
       "    <tr>\n",
       "      <th>freq</th>\n",
       "      <td>6970</td>\n",
       "      <td>5018</td>\n",
       "      <td>6888</td>\n",
       "      <td>6867</td>\n",
       "    </tr>\n",
       "  </tbody>\n",
       "</table>\n",
       "</div>"
      ],
      "text/plain": [
       "       VEHICLE_OWNERSHIP MARRIED CHILDREN OUTCOME\n",
       "count              10000   10000    10000   10000\n",
       "unique                 2       2        2       2\n",
       "top                 True   False     True   False\n",
       "freq                6970    5018     6888    6867"
      ]
     },
     "execution_count": 14,
     "metadata": {},
     "output_type": "execute_result"
    }
   ],
   "source": [
    "data.describe(include=['bool'])"
   ]
  },
  {
   "cell_type": "markdown",
   "metadata": {},
   "source": [
    "Выведем некоторые пары признаков для визуализации их связи:"
   ]
  },
  {
   "cell_type": "code",
   "execution_count": 14,
   "metadata": {},
   "outputs": [
    {
     "data": {
      "image/png": "[encoded data removed]",
      "text/plain": [
       "<Figure size 432x288 with 1 Axes>"
      ]
     },
     "metadata": {
      "needs_background": "light"
     },
     "output_type": "display_data"
    }
   ],
   "source": [
    "plt.scatter(data['INCOME'], data['CREDIT_SCORE'], alpha=0.01, color = 'pink')\n",
    "pass"
   ]
  },
  {
   "cell_type": "markdown",
   "metadata": {},
   "source": [
    "Данная диаграмма рассеивания показывает, что на кредитный рейтинг клиента страховой компании напрямую влияет его доход. Мы имеем не так много признаков, которые имеют большой набор различных значений, поэтому в нашем случае диаграмма рассеивания не лучший вариант визуализации данных."
   ]
  },
  {
   "cell_type": "code",
   "execution_count": 15,
   "metadata": {},
   "outputs": [
    {
     "data": {
      "image/png": "[encoded data removed]",
      "text/plain": [
       "<Figure size 720x576 with 1 Axes>"
      ]
     },
     "metadata": {
      "needs_background": "light"
     },
     "output_type": "display_data"
    }
   ],
   "source": [
    "random_subset = np.random.choice(np.arange(data.shape[0]), size=1000, replace=False)\n",
    "plt.figure(figsize = (10, 8))\n",
    "sns.scatterplot(x='INCOME', y='CREDIT_SCORE', hue='EDUCATION', data=data.iloc[random_subset], alpha=0.7)\n",
    "pass"
   ]
  },
  {
   "cell_type": "markdown",
   "metadata": {},
   "source": [
    "Это аналогичная предыдущей диаграмма рассеивания, отличие только в том, что она имеет дополнительную информацию о уровне образования клиентов.\n",
    "\n",
    "Следующая гистограмма показывает распределений значений кредитного рейтинга водителей."
   ]
  },
  {
   "cell_type": "code",
   "execution_count": 16,
   "metadata": {},
   "outputs": [
    {
     "data": {
      "image/png": "[encoded data removed]",
      "text/plain": [
       "<Figure size 432x288 with 1 Axes>"
      ]
     },
     "metadata": {
      "needs_background": "light"
     },
     "output_type": "display_data"
    }
   ],
   "source": [
    "sns.distplot(data['CREDIT_SCORE'], bins=100)\n",
    "plt.grid()\n",
    "pass"
   ]
  },
  {
   "cell_type": "markdown",
   "metadata": {},
   "source": [
    "Данная гистограмма показывает распределений количества штрафов водителей."
   ]
  },
  {
   "cell_type": "code",
   "execution_count": 17,
   "metadata": {},
   "outputs": [
    {
     "data": {
      "image/png": "[encoded data removed]",
      "text/plain": [
       "<Figure size 432x288 with 1 Axes>"
      ]
     },
     "metadata": {
      "needs_background": "light"
     },
     "output_type": "display_data"
    }
   ],
   "source": [
    "sns.distplot(data['SPEEDING_VIOLATIONS'], bins=10, color = 'red')\n",
    "plt.grid()\n",
    "pass"
   ]
  },
  {
   "cell_type": "markdown",
   "metadata": {},
   "source": [
    "Рассмотрим возрастные категории клиентов"
   ]
  },
  {
   "cell_type": "code",
   "execution_count": 18,
   "metadata": {},
   "outputs": [
    {
     "data": {
      "image/png": "[encoded data removed]",
      "text/plain": [
       "<Figure size 432x288 with 1 Axes>"
      ]
     },
     "metadata": {
      "needs_background": "light"
     },
     "output_type": "display_data"
    }
   ],
   "source": [
    "sns.countplot(x='AGE', data=data)\n",
    "pass"
   ]
  },
  {
   "cell_type": "markdown",
   "metadata": {},
   "source": [
    "Посмотрим, какой тип автомобиля преобладает у клиентов"
   ]
  },
  {
   "cell_type": "code",
   "execution_count": 19,
   "metadata": {},
   "outputs": [
    {
     "data": {
      "image/png": "[encoded data removed]",
      "text/plain": [
       "<Figure size 432x288 with 1 Axes>"
      ]
     },
     "metadata": {
      "needs_background": "light"
     },
     "output_type": "display_data"
    }
   ],
   "source": [
    "sns.countplot(x='VEHICLE_TYPE', data=data)\n",
    "pass"
   ]
  },
  {
   "cell_type": "markdown",
   "metadata": {},
   "source": [
    "**Ящик с усами**\n",
    "\n",
    "Помогает проанализировать значения годового пробега автомобилей водителей различных возрастных категорий. Он отображает значения квартильные значения признака ANNUAL_MILEAGE, медианные значения, а также диапазоны значений для разных категорий."
   ]
  },
  {
   "cell_type": "code",
   "execution_count": 20,
   "metadata": {},
   "outputs": [
    {
     "data": {
      "image/png": "[encoded data removed]",
      "text/plain": [
       "<Figure size 432x288 with 1 Axes>"
      ]
     },
     "metadata": {
      "needs_background": "light"
     },
     "output_type": "display_data"
    }
   ],
   "source": [
    "sns.boxplot(x='AGE', y='ANNUAL_MILEAGE', data=data)\n",
    "pass"
   ]
  },
  {
   "cell_type": "markdown",
   "metadata": {},
   "source": [
    "**Скрипичный график**\n",
    "\n",
    "Скрипичные графики отображают графики аппроксимации плотности вероятности для тех же величин."
   ]
  },
  {
   "cell_type": "code",
   "execution_count": 21,
   "metadata": {},
   "outputs": [
    {
     "data": {
      "image/png": "[encoded data removed]",
      "text/plain": [
       "<Figure size 432x288 with 1 Axes>"
      ]
     },
     "metadata": {
      "needs_background": "light"
     },
     "output_type": "display_data"
    }
   ],
   "source": [
    "sns.violinplot(x='AGE', y='ANNUAL_MILEAGE', data=data)\n",
    "pass"
   ]
  },
  {
   "cell_type": "markdown",
   "metadata": {},
   "source": [
    "**Корреляционная матрица**\n",
    "\n",
    "Построим матрицу корреляции:"
   ]
  },
  {
   "cell_type": "code",
   "execution_count": 22,
   "metadata": {},
   "outputs": [
    {
     "data": {
      "text/html": [
       "<div>\n",
       "<style scoped>\n",
       "    .dataframe tbody tr th:only-of-type {\n",
       "        vertical-align: middle;\n",
       "    }\n",
       "\n",
       "    .dataframe tbody tr th {\n",
       "        vertical-align: top;\n",
       "    }\n",
       "\n",
       "    .dataframe thead th {\n",
       "        text-align: right;\n",
       "    }\n",
       "</style>\n",
       "<table border=\"1\" class=\"dataframe\">\n",
       "  <thead>\n",
       "    <tr style=\"text-align: right;\">\n",
       "      <th></th>\n",
       "      <th>ID</th>\n",
       "      <th>CREDIT_SCORE</th>\n",
       "      <th>VEHICLE_OWNERSHIP</th>\n",
       "      <th>MARRIED</th>\n",
       "      <th>CHILDREN</th>\n",
       "      <th>POSTAL_CODE</th>\n",
       "      <th>ANNUAL_MILEAGE</th>\n",
       "      <th>SPEEDING_VIOLATIONS</th>\n",
       "      <th>DUIS</th>\n",
       "      <th>PAST_ACCIDENTS</th>\n",
       "      <th>OUTCOME</th>\n",
       "    </tr>\n",
       "  </thead>\n",
       "  <tbody>\n",
       "    <tr>\n",
       "      <th>ID</th>\n",
       "      <td>1.000000</td>\n",
       "      <td>0.001704</td>\n",
       "      <td>0.009197</td>\n",
       "      <td>0.014826</td>\n",
       "      <td>0.001233</td>\n",
       "      <td>0.006038</td>\n",
       "      <td>-0.002217</td>\n",
       "      <td>0.008156</td>\n",
       "      <td>0.009268</td>\n",
       "      <td>0.001831</td>\n",
       "      <td>-0.010506</td>\n",
       "    </tr>\n",
       "    <tr>\n",
       "      <th>CREDIT_SCORE</th>\n",
       "      <td>0.001704</td>\n",
       "      <td>1.000000</td>\n",
       "      <td>0.312037</td>\n",
       "      <td>0.281238</td>\n",
       "      <td>0.220658</td>\n",
       "      <td>0.009040</td>\n",
       "      <td>-0.174453</td>\n",
       "      <td>0.204542</td>\n",
       "      <td>0.127366</td>\n",
       "      <td>0.180978</td>\n",
       "      <td>-0.325286</td>\n",
       "    </tr>\n",
       "    <tr>\n",
       "      <th>VEHICLE_OWNERSHIP</th>\n",
       "      <td>0.009197</td>\n",
       "      <td>0.312037</td>\n",
       "      <td>1.000000</td>\n",
       "      <td>0.175626</td>\n",
       "      <td>0.125990</td>\n",
       "      <td>-0.004866</td>\n",
       "      <td>-0.097433</td>\n",
       "      <td>0.133868</td>\n",
       "      <td>0.086567</td>\n",
       "      <td>0.119521</td>\n",
       "      <td>-0.378921</td>\n",
       "    </tr>\n",
       "    <tr>\n",
       "      <th>MARRIED</th>\n",
       "      <td>0.014826</td>\n",
       "      <td>0.281238</td>\n",
       "      <td>0.175626</td>\n",
       "      <td>1.000000</td>\n",
       "      <td>0.287009</td>\n",
       "      <td>0.012045</td>\n",
       "      <td>-0.462193</td>\n",
       "      <td>0.218855</td>\n",
       "      <td>0.120840</td>\n",
       "      <td>0.215269</td>\n",
       "      <td>-0.262104</td>\n",
       "    </tr>\n",
       "    <tr>\n",
       "      <th>CHILDREN</th>\n",
       "      <td>0.001233</td>\n",
       "      <td>0.220658</td>\n",
       "      <td>0.125990</td>\n",
       "      <td>0.287009</td>\n",
       "      <td>1.000000</td>\n",
       "      <td>0.020911</td>\n",
       "      <td>-0.447655</td>\n",
       "      <td>0.220415</td>\n",
       "      <td>0.115354</td>\n",
       "      <td>0.206295</td>\n",
       "      <td>-0.232835</td>\n",
       "    </tr>\n",
       "    <tr>\n",
       "      <th>POSTAL_CODE</th>\n",
       "      <td>0.006038</td>\n",
       "      <td>0.009040</td>\n",
       "      <td>-0.004866</td>\n",
       "      <td>0.012045</td>\n",
       "      <td>0.020911</td>\n",
       "      <td>1.000000</td>\n",
       "      <td>-0.133978</td>\n",
       "      <td>0.113686</td>\n",
       "      <td>0.038492</td>\n",
       "      <td>-0.116985</td>\n",
       "      <td>0.095889</td>\n",
       "    </tr>\n",
       "    <tr>\n",
       "      <th>ANNUAL_MILEAGE</th>\n",
       "      <td>-0.002217</td>\n",
       "      <td>-0.174453</td>\n",
       "      <td>-0.097433</td>\n",
       "      <td>-0.462193</td>\n",
       "      <td>-0.447655</td>\n",
       "      <td>-0.133978</td>\n",
       "      <td>1.000000</td>\n",
       "      <td>-0.323547</td>\n",
       "      <td>-0.116598</td>\n",
       "      <td>-0.195217</td>\n",
       "      <td>0.187154</td>\n",
       "    </tr>\n",
       "    <tr>\n",
       "      <th>SPEEDING_VIOLATIONS</th>\n",
       "      <td>0.008156</td>\n",
       "      <td>0.204542</td>\n",
       "      <td>0.133868</td>\n",
       "      <td>0.218855</td>\n",
       "      <td>0.220415</td>\n",
       "      <td>0.113686</td>\n",
       "      <td>-0.323547</td>\n",
       "      <td>1.000000</td>\n",
       "      <td>0.359838</td>\n",
       "      <td>0.443074</td>\n",
       "      <td>-0.291862</td>\n",
       "    </tr>\n",
       "    <tr>\n",
       "      <th>DUIS</th>\n",
       "      <td>0.009268</td>\n",
       "      <td>0.127366</td>\n",
       "      <td>0.086567</td>\n",
       "      <td>0.120840</td>\n",
       "      <td>0.115354</td>\n",
       "      <td>0.038492</td>\n",
       "      <td>-0.116598</td>\n",
       "      <td>0.359838</td>\n",
       "      <td>1.000000</td>\n",
       "      <td>0.259359</td>\n",
       "      <td>-0.189352</td>\n",
       "    </tr>\n",
       "    <tr>\n",
       "      <th>PAST_ACCIDENTS</th>\n",
       "      <td>0.001831</td>\n",
       "      <td>0.180978</td>\n",
       "      <td>0.119521</td>\n",
       "      <td>0.215269</td>\n",
       "      <td>0.206295</td>\n",
       "      <td>-0.116985</td>\n",
       "      <td>-0.195217</td>\n",
       "      <td>0.443074</td>\n",
       "      <td>0.259359</td>\n",
       "      <td>1.000000</td>\n",
       "      <td>-0.311495</td>\n",
       "    </tr>\n",
       "    <tr>\n",
       "      <th>OUTCOME</th>\n",
       "      <td>-0.010506</td>\n",
       "      <td>-0.325286</td>\n",
       "      <td>-0.378921</td>\n",
       "      <td>-0.262104</td>\n",
       "      <td>-0.232835</td>\n",
       "      <td>0.095889</td>\n",
       "      <td>0.187154</td>\n",
       "      <td>-0.291862</td>\n",
       "      <td>-0.189352</td>\n",
       "      <td>-0.311495</td>\n",
       "      <td>1.000000</td>\n",
       "    </tr>\n",
       "  </tbody>\n",
       "</table>\n",
       "</div>"
      ],
      "text/plain": [
       "                           ID  CREDIT_SCORE  VEHICLE_OWNERSHIP   MARRIED  \\\n",
       "ID                   1.000000      0.001704           0.009197  0.014826   \n",
       "CREDIT_SCORE         0.001704      1.000000           0.312037  0.281238   \n",
       "VEHICLE_OWNERSHIP    0.009197      0.312037           1.000000  0.175626   \n",
       "MARRIED              0.014826      0.281238           0.175626  1.000000   \n",
       "CHILDREN             0.001233      0.220658           0.125990  0.287009   \n",
       "POSTAL_CODE          0.006038      0.009040          -0.004866  0.012045   \n",
       "ANNUAL_MILEAGE      -0.002217     -0.174453          -0.097433 -0.462193   \n",
       "SPEEDING_VIOLATIONS  0.008156      0.204542           0.133868  0.218855   \n",
       "DUIS                 0.009268      0.127366           0.086567  0.120840   \n",
       "PAST_ACCIDENTS       0.001831      0.180978           0.119521  0.215269   \n",
       "OUTCOME             -0.010506     -0.325286          -0.378921 -0.262104   \n",
       "\n",
       "                     CHILDREN  POSTAL_CODE  ANNUAL_MILEAGE  \\\n",
       "ID                   0.001233     0.006038       -0.002217   \n",
       "CREDIT_SCORE         0.220658     0.009040       -0.174453   \n",
       "VEHICLE_OWNERSHIP    0.125990    -0.004866       -0.097433   \n",
       "MARRIED              0.287009     0.012045       -0.462193   \n",
       "CHILDREN             1.000000     0.020911       -0.447655   \n",
       "POSTAL_CODE          0.020911     1.000000       -0.133978   \n",
       "ANNUAL_MILEAGE      -0.447655    -0.133978        1.000000   \n",
       "SPEEDING_VIOLATIONS  0.220415     0.113686       -0.323547   \n",
       "DUIS                 0.115354     0.038492       -0.116598   \n",
       "PAST_ACCIDENTS       0.206295    -0.116985       -0.195217   \n",
       "OUTCOME             -0.232835     0.095889        0.187154   \n",
       "\n",
       "                     SPEEDING_VIOLATIONS      DUIS  PAST_ACCIDENTS   OUTCOME  \n",
       "ID                              0.008156  0.009268        0.001831 -0.010506  \n",
       "CREDIT_SCORE                    0.204542  0.127366        0.180978 -0.325286  \n",
       "VEHICLE_OWNERSHIP               0.133868  0.086567        0.119521 -0.378921  \n",
       "MARRIED                         0.218855  0.120840        0.215269 -0.262104  \n",
       "CHILDREN                        0.220415  0.115354        0.206295 -0.232835  \n",
       "POSTAL_CODE                     0.113686  0.038492       -0.116985  0.095889  \n",
       "ANNUAL_MILEAGE                 -0.323547 -0.116598       -0.195217  0.187154  \n",
       "SPEEDING_VIOLATIONS             1.000000  0.359838        0.443074 -0.291862  \n",
       "DUIS                            0.359838  1.000000        0.259359 -0.189352  \n",
       "PAST_ACCIDENTS                  0.443074  0.259359        1.000000 -0.311495  \n",
       "OUTCOME                        -0.291862 -0.189352       -0.311495  1.000000  "
      ]
     },
     "execution_count": 22,
     "metadata": {},
     "output_type": "execute_result"
    }
   ],
   "source": [
    "corr_mat = data.corr()\n",
    "corr_mat"
   ]
  },
  {
   "cell_type": "code",
   "execution_count": 23,
   "metadata": {},
   "outputs": [
    {
     "data": {
      "image/png": "[encoded data removed]",
      "text/plain": [
       "<Figure size 432x288 with 2 Axes>"
      ]
     },
     "metadata": {
      "needs_background": "light"
     },
     "output_type": "display_data"
    }
   ],
   "source": [
    "sns.heatmap(corr_mat, square=True, cmap='coolwarm')\n",
    "pass"
   ]
  },
  {
   "cell_type": "markdown",
   "metadata": {},
   "source": [
    "Можно увидеть достаточно заметную взаимную корреляцию между превышением скорости, вождением в нетрезвом виде и числом аварий."
   ]
  },
  {
   "cell_type": "markdown",
   "metadata": {},
   "source": [
    "### **3. Обработка пропущенных значений**\n",
    "Найдем столбцы, в которых имеются пропущенные значения и количество таких значений:"
   ]
  },
  {
   "cell_type": "code",
   "execution_count": 15,
   "metadata": {},
   "outputs": [
    {
     "data": {
      "text/plain": [
       "ID                       0\n",
       "AGE                      0\n",
       "GENDER                   0\n",
       "RACE                     0\n",
       "DRIVING_EXPERIENCE       0\n",
       "EDUCATION                0\n",
       "INCOME                   0\n",
       "CREDIT_SCORE           982\n",
       "VEHICLE_OWNERSHIP        0\n",
       "VEHICLE_YEAR             0\n",
       "MARRIED                  0\n",
       "CHILDREN                 0\n",
       "POSTAL_CODE              0\n",
       "ANNUAL_MILEAGE         957\n",
       "VEHICLE_TYPE             0\n",
       "SPEEDING_VIOLATIONS      0\n",
       "DUIS                     0\n",
       "PAST_ACCIDENTS           0\n",
       "OUTCOME                  0\n",
       "dtype: int64"
      ]
     },
     "execution_count": 15,
     "metadata": {},
     "output_type": "execute_result"
    }
   ],
   "source": [
    "data.isna().sum()"
   ]
  },
  {
   "cell_type": "markdown",
   "metadata": {},
   "source": [
    "Числовые признаки \"CREDIT_SCORE\" и \"ANNUAL_MILEAGE\" имеют пропущенные значения,заполним их медианой"
   ]
  },
  {
   "cell_type": "code",
   "execution_count": 16,
   "metadata": {},
   "outputs": [
    {
     "data": {
      "text/plain": [
       "ID                     0\n",
       "AGE                    0\n",
       "GENDER                 0\n",
       "RACE                   0\n",
       "DRIVING_EXPERIENCE     0\n",
       "EDUCATION              0\n",
       "INCOME                 0\n",
       "CREDIT_SCORE           0\n",
       "VEHICLE_OWNERSHIP      0\n",
       "VEHICLE_YEAR           0\n",
       "MARRIED                0\n",
       "CHILDREN               0\n",
       "POSTAL_CODE            0\n",
       "ANNUAL_MILEAGE         0\n",
       "VEHICLE_TYPE           0\n",
       "SPEEDING_VIOLATIONS    0\n",
       "DUIS                   0\n",
       "PAST_ACCIDENTS         0\n",
       "OUTCOME                0\n",
       "dtype: int64"
      ]
     },
     "execution_count": 16,
     "metadata": {},
     "output_type": "execute_result"
    }
   ],
   "source": [
    "data.fillna(data.median(axis = 0), axis=0 , inplace=True)\n",
    "data.isna().sum()"
   ]
  },
  {
   "cell_type": "markdown",
   "metadata": {},
   "source": [
    "Видно, что пропущенных значений не осталось"
   ]
  },
  {
   "cell_type": "code",
   "execution_count": 17,
   "metadata": {},
   "outputs": [
    {
     "data": {
      "text/html": [
       "<div>\n",
       "<style scoped>\n",
       "    .dataframe tbody tr th:only-of-type {\n",
       "        vertical-align: middle;\n",
       "    }\n",
       "\n",
       "    .dataframe tbody tr th {\n",
       "        vertical-align: top;\n",
       "    }\n",
       "\n",
       "    .dataframe thead th {\n",
       "        text-align: right;\n",
       "    }\n",
       "</style>\n",
       "<table border=\"1\" class=\"dataframe\">\n",
       "  <thead>\n",
       "    <tr style=\"text-align: right;\">\n",
       "      <th></th>\n",
       "      <th>ID</th>\n",
       "      <th>CREDIT_SCORE</th>\n",
       "      <th>POSTAL_CODE</th>\n",
       "      <th>ANNUAL_MILEAGE</th>\n",
       "      <th>SPEEDING_VIOLATIONS</th>\n",
       "      <th>DUIS</th>\n",
       "      <th>PAST_ACCIDENTS</th>\n",
       "    </tr>\n",
       "  </thead>\n",
       "  <tbody>\n",
       "    <tr>\n",
       "      <th>count</th>\n",
       "      <td>10000.000000</td>\n",
       "      <td>10000.000000</td>\n",
       "      <td>10000.000000</td>\n",
       "      <td>10000.000000</td>\n",
       "      <td>10000.000000</td>\n",
       "      <td>10000.00000</td>\n",
       "      <td>10000.000000</td>\n",
       "    </tr>\n",
       "    <tr>\n",
       "      <th>mean</th>\n",
       "      <td>500521.906800</td>\n",
       "      <td>0.516718</td>\n",
       "      <td>19864.548400</td>\n",
       "      <td>11726.000000</td>\n",
       "      <td>1.482900</td>\n",
       "      <td>0.23920</td>\n",
       "      <td>1.056300</td>\n",
       "    </tr>\n",
       "    <tr>\n",
       "      <th>std</th>\n",
       "      <td>290030.768758</td>\n",
       "      <td>0.130781</td>\n",
       "      <td>18915.613855</td>\n",
       "      <td>2681.649329</td>\n",
       "      <td>2.241966</td>\n",
       "      <td>0.55499</td>\n",
       "      <td>1.652454</td>\n",
       "    </tr>\n",
       "    <tr>\n",
       "      <th>min</th>\n",
       "      <td>101.000000</td>\n",
       "      <td>0.053358</td>\n",
       "      <td>10238.000000</td>\n",
       "      <td>2000.000000</td>\n",
       "      <td>0.000000</td>\n",
       "      <td>0.00000</td>\n",
       "      <td>0.000000</td>\n",
       "    </tr>\n",
       "    <tr>\n",
       "      <th>25%</th>\n",
       "      <td>249638.500000</td>\n",
       "      <td>0.431509</td>\n",
       "      <td>10238.000000</td>\n",
       "      <td>10000.000000</td>\n",
       "      <td>0.000000</td>\n",
       "      <td>0.00000</td>\n",
       "      <td>0.000000</td>\n",
       "    </tr>\n",
       "    <tr>\n",
       "      <th>50%</th>\n",
       "      <td>501777.000000</td>\n",
       "      <td>0.525033</td>\n",
       "      <td>10238.000000</td>\n",
       "      <td>12000.000000</td>\n",
       "      <td>0.000000</td>\n",
       "      <td>0.00000</td>\n",
       "      <td>0.000000</td>\n",
       "    </tr>\n",
       "    <tr>\n",
       "      <th>75%</th>\n",
       "      <td>753974.500000</td>\n",
       "      <td>0.607607</td>\n",
       "      <td>32765.000000</td>\n",
       "      <td>13000.000000</td>\n",
       "      <td>2.000000</td>\n",
       "      <td>0.00000</td>\n",
       "      <td>2.000000</td>\n",
       "    </tr>\n",
       "    <tr>\n",
       "      <th>max</th>\n",
       "      <td>999976.000000</td>\n",
       "      <td>0.960819</td>\n",
       "      <td>92101.000000</td>\n",
       "      <td>22000.000000</td>\n",
       "      <td>22.000000</td>\n",
       "      <td>6.00000</td>\n",
       "      <td>15.000000</td>\n",
       "    </tr>\n",
       "  </tbody>\n",
       "</table>\n",
       "</div>"
      ],
      "text/plain": [
       "                  ID  CREDIT_SCORE   POSTAL_CODE  ANNUAL_MILEAGE  \\\n",
       "count   10000.000000  10000.000000  10000.000000    10000.000000   \n",
       "mean   500521.906800      0.516718  19864.548400    11726.000000   \n",
       "std    290030.768758      0.130781  18915.613855     2681.649329   \n",
       "min       101.000000      0.053358  10238.000000     2000.000000   \n",
       "25%    249638.500000      0.431509  10238.000000    10000.000000   \n",
       "50%    501777.000000      0.525033  10238.000000    12000.000000   \n",
       "75%    753974.500000      0.607607  32765.000000    13000.000000   \n",
       "max    999976.000000      0.960819  92101.000000    22000.000000   \n",
       "\n",
       "       SPEEDING_VIOLATIONS         DUIS  PAST_ACCIDENTS  \n",
       "count         10000.000000  10000.00000    10000.000000  \n",
       "mean              1.482900      0.23920        1.056300  \n",
       "std               2.241966      0.55499        1.652454  \n",
       "min               0.000000      0.00000        0.000000  \n",
       "25%               0.000000      0.00000        0.000000  \n",
       "50%               0.000000      0.00000        0.000000  \n",
       "75%               2.000000      0.00000        2.000000  \n",
       "max              22.000000      6.00000       15.000000  "
      ]
     },
     "execution_count": 17,
     "metadata": {},
     "output_type": "execute_result"
    }
   ],
   "source": [
    "data.describe()"
   ]
  },
  {
   "cell_type": "markdown",
   "metadata": {},
   "source": [
    "### **4. Обработка категориальных признаков**\n",
    "\n",
    "Для последующей нормализации признаков, закодируем категориальные признаки с помощью числовых.\n",
    "\n",
    "Бинарные признаки \"GENDER\", \"RACE\", \"VEHICLE_YEAR\", \"VEHICLE_TYPE\" заменим на числовые (0 и 1)."
   ]
  },
  {
   "cell_type": "code",
   "execution_count": 18,
   "metadata": {},
   "outputs": [],
   "source": [
    "data['GENDER'] = pd.factorize(data['GENDER'])[0]\n",
    "data['RACE'] = pd.factorize(data['RACE'])[0]\n",
    "data['VEHICLE_YEAR'] = pd.factorize(data['VEHICLE_YEAR'])[0]\n",
    "data['VEHICLE_TYPE'] = pd.factorize(data['VEHICLE_TYPE'])[0]"
   ]
  },
  {
   "cell_type": "markdown",
   "metadata": {},
   "source": [
    "К небинарным признакам \"AGE\", \"DRIVING_EXPERIENCE\", \"EDUCATION\", \"INCOME\" применим метод бинаризации."
   ]
  },
  {
   "cell_type": "code",
   "execution_count": 19,
   "metadata": {},
   "outputs": [
    {
     "data": {
      "text/html": [
       "<div>\n",
       "<style scoped>\n",
       "    .dataframe tbody tr th:only-of-type {\n",
       "        vertical-align: middle;\n",
       "    }\n",
       "\n",
       "    .dataframe tbody tr th {\n",
       "        vertical-align: top;\n",
       "    }\n",
       "\n",
       "    .dataframe thead th {\n",
       "        text-align: right;\n",
       "    }\n",
       "</style>\n",
       "<table border=\"1\" class=\"dataframe\">\n",
       "  <thead>\n",
       "    <tr style=\"text-align: right;\">\n",
       "      <th></th>\n",
       "      <th>16-25</th>\n",
       "      <th>26-39</th>\n",
       "      <th>40-64</th>\n",
       "      <th>65+</th>\n",
       "    </tr>\n",
       "  </thead>\n",
       "  <tbody>\n",
       "    <tr>\n",
       "      <th>0</th>\n",
       "      <td>0</td>\n",
       "      <td>0</td>\n",
       "      <td>0</td>\n",
       "      <td>1</td>\n",
       "    </tr>\n",
       "    <tr>\n",
       "      <th>1</th>\n",
       "      <td>1</td>\n",
       "      <td>0</td>\n",
       "      <td>0</td>\n",
       "      <td>0</td>\n",
       "    </tr>\n",
       "    <tr>\n",
       "      <th>2</th>\n",
       "      <td>1</td>\n",
       "      <td>0</td>\n",
       "      <td>0</td>\n",
       "      <td>0</td>\n",
       "    </tr>\n",
       "    <tr>\n",
       "      <th>3</th>\n",
       "      <td>1</td>\n",
       "      <td>0</td>\n",
       "      <td>0</td>\n",
       "      <td>0</td>\n",
       "    </tr>\n",
       "    <tr>\n",
       "      <th>4</th>\n",
       "      <td>0</td>\n",
       "      <td>1</td>\n",
       "      <td>0</td>\n",
       "      <td>0</td>\n",
       "    </tr>\n",
       "  </tbody>\n",
       "</table>\n",
       "</div>"
      ],
      "text/plain": [
       "   16-25  26-39  40-64  65+\n",
       "0      0      0      0    1\n",
       "1      1      0      0    0\n",
       "2      1      0      0    0\n",
       "3      1      0      0    0\n",
       "4      0      1      0    0"
      ]
     },
     "execution_count": 19,
     "metadata": {},
     "output_type": "execute_result"
    }
   ],
   "source": [
    "AGE_dummies = pd.get_dummies(data['AGE'])\n",
    "AGE_dummies.head()"
   ]
  },
  {
   "cell_type": "code",
   "execution_count": 20,
   "metadata": {},
   "outputs": [
    {
     "data": {
      "text/html": [
       "<div>\n",
       "<style scoped>\n",
       "    .dataframe tbody tr th:only-of-type {\n",
       "        vertical-align: middle;\n",
       "    }\n",
       "\n",
       "    .dataframe tbody tr th {\n",
       "        vertical-align: top;\n",
       "    }\n",
       "\n",
       "    .dataframe thead th {\n",
       "        text-align: right;\n",
       "    }\n",
       "</style>\n",
       "<table border=\"1\" class=\"dataframe\">\n",
       "  <thead>\n",
       "    <tr style=\"text-align: right;\">\n",
       "      <th></th>\n",
       "      <th>0-9y</th>\n",
       "      <th>10-19y</th>\n",
       "      <th>20-29y</th>\n",
       "      <th>30y+</th>\n",
       "    </tr>\n",
       "  </thead>\n",
       "  <tbody>\n",
       "    <tr>\n",
       "      <th>0</th>\n",
       "      <td>1</td>\n",
       "      <td>0</td>\n",
       "      <td>0</td>\n",
       "      <td>0</td>\n",
       "    </tr>\n",
       "    <tr>\n",
       "      <th>1</th>\n",
       "      <td>1</td>\n",
       "      <td>0</td>\n",
       "      <td>0</td>\n",
       "      <td>0</td>\n",
       "    </tr>\n",
       "    <tr>\n",
       "      <th>2</th>\n",
       "      <td>1</td>\n",
       "      <td>0</td>\n",
       "      <td>0</td>\n",
       "      <td>0</td>\n",
       "    </tr>\n",
       "    <tr>\n",
       "      <th>3</th>\n",
       "      <td>1</td>\n",
       "      <td>0</td>\n",
       "      <td>0</td>\n",
       "      <td>0</td>\n",
       "    </tr>\n",
       "    <tr>\n",
       "      <th>4</th>\n",
       "      <td>0</td>\n",
       "      <td>1</td>\n",
       "      <td>0</td>\n",
       "      <td>0</td>\n",
       "    </tr>\n",
       "  </tbody>\n",
       "</table>\n",
       "</div>"
      ],
      "text/plain": [
       "   0-9y  10-19y  20-29y  30y+\n",
       "0     1       0       0     0\n",
       "1     1       0       0     0\n",
       "2     1       0       0     0\n",
       "3     1       0       0     0\n",
       "4     0       1       0     0"
      ]
     },
     "execution_count": 20,
     "metadata": {},
     "output_type": "execute_result"
    }
   ],
   "source": [
    "DRIVING_EXPERIENCE_dummies = pd.get_dummies(data['DRIVING_EXPERIENCE'])\n",
    "DRIVING_EXPERIENCE_dummies.head()"
   ]
  },
  {
   "cell_type": "code",
   "execution_count": 21,
   "metadata": {},
   "outputs": [
    {
     "data": {
      "text/html": [
       "<div>\n",
       "<style scoped>\n",
       "    .dataframe tbody tr th:only-of-type {\n",
       "        vertical-align: middle;\n",
       "    }\n",
       "\n",
       "    .dataframe tbody tr th {\n",
       "        vertical-align: top;\n",
       "    }\n",
       "\n",
       "    .dataframe thead th {\n",
       "        text-align: right;\n",
       "    }\n",
       "</style>\n",
       "<table border=\"1\" class=\"dataframe\">\n",
       "  <thead>\n",
       "    <tr style=\"text-align: right;\">\n",
       "      <th></th>\n",
       "      <th>high school</th>\n",
       "      <th>none</th>\n",
       "      <th>university</th>\n",
       "    </tr>\n",
       "  </thead>\n",
       "  <tbody>\n",
       "    <tr>\n",
       "      <th>0</th>\n",
       "      <td>1</td>\n",
       "      <td>0</td>\n",
       "      <td>0</td>\n",
       "    </tr>\n",
       "    <tr>\n",
       "      <th>1</th>\n",
       "      <td>0</td>\n",
       "      <td>1</td>\n",
       "      <td>0</td>\n",
       "    </tr>\n",
       "    <tr>\n",
       "      <th>2</th>\n",
       "      <td>1</td>\n",
       "      <td>0</td>\n",
       "      <td>0</td>\n",
       "    </tr>\n",
       "    <tr>\n",
       "      <th>3</th>\n",
       "      <td>0</td>\n",
       "      <td>0</td>\n",
       "      <td>1</td>\n",
       "    </tr>\n",
       "    <tr>\n",
       "      <th>4</th>\n",
       "      <td>0</td>\n",
       "      <td>1</td>\n",
       "      <td>0</td>\n",
       "    </tr>\n",
       "  </tbody>\n",
       "</table>\n",
       "</div>"
      ],
      "text/plain": [
       "   high school  none  university\n",
       "0            1     0           0\n",
       "1            0     1           0\n",
       "2            1     0           0\n",
       "3            0     0           1\n",
       "4            0     1           0"
      ]
     },
     "execution_count": 21,
     "metadata": {},
     "output_type": "execute_result"
    }
   ],
   "source": [
    "EDUCATION_dummies = pd.get_dummies(data['EDUCATION'])\n",
    "EDUCATION_dummies.head()"
   ]
  },
  {
   "cell_type": "code",
   "execution_count": 22,
   "metadata": {},
   "outputs": [
    {
     "data": {
      "text/html": [
       "<div>\n",
       "<style scoped>\n",
       "    .dataframe tbody tr th:only-of-type {\n",
       "        vertical-align: middle;\n",
       "    }\n",
       "\n",
       "    .dataframe tbody tr th {\n",
       "        vertical-align: top;\n",
       "    }\n",
       "\n",
       "    .dataframe thead th {\n",
       "        text-align: right;\n",
       "    }\n",
       "</style>\n",
       "<table border=\"1\" class=\"dataframe\">\n",
       "  <thead>\n",
       "    <tr style=\"text-align: right;\">\n",
       "      <th></th>\n",
       "      <th>middle class</th>\n",
       "      <th>poverty</th>\n",
       "      <th>upper class</th>\n",
       "      <th>working class</th>\n",
       "    </tr>\n",
       "  </thead>\n",
       "  <tbody>\n",
       "    <tr>\n",
       "      <th>0</th>\n",
       "      <td>0</td>\n",
       "      <td>0</td>\n",
       "      <td>1</td>\n",
       "      <td>0</td>\n",
       "    </tr>\n",
       "    <tr>\n",
       "      <th>1</th>\n",
       "      <td>0</td>\n",
       "      <td>1</td>\n",
       "      <td>0</td>\n",
       "      <td>0</td>\n",
       "    </tr>\n",
       "    <tr>\n",
       "      <th>2</th>\n",
       "      <td>0</td>\n",
       "      <td>0</td>\n",
       "      <td>0</td>\n",
       "      <td>1</td>\n",
       "    </tr>\n",
       "    <tr>\n",
       "      <th>3</th>\n",
       "      <td>0</td>\n",
       "      <td>0</td>\n",
       "      <td>0</td>\n",
       "      <td>1</td>\n",
       "    </tr>\n",
       "    <tr>\n",
       "      <th>4</th>\n",
       "      <td>0</td>\n",
       "      <td>0</td>\n",
       "      <td>0</td>\n",
       "      <td>1</td>\n",
       "    </tr>\n",
       "  </tbody>\n",
       "</table>\n",
       "</div>"
      ],
      "text/plain": [
       "   middle class  poverty  upper class  working class\n",
       "0             0        0            1              0\n",
       "1             0        1            0              0\n",
       "2             0        0            0              1\n",
       "3             0        0            0              1\n",
       "4             0        0            0              1"
      ]
     },
     "execution_count": 22,
     "metadata": {},
     "output_type": "execute_result"
    }
   ],
   "source": [
    "INCOME_dummies = pd.get_dummies(data['INCOME'])\n",
    "INCOME_dummies.head()"
   ]
  },
  {
   "cell_type": "markdown",
   "metadata": {},
   "source": [
    "Добавим dummy-столбцы к таблице и удалим \"AGE\", \"DRIVING_EXPERIENCE\", \"EDUCATION\", \"INCOME\":"
   ]
  },
  {
   "cell_type": "code",
   "execution_count": 23,
   "metadata": {},
   "outputs": [
    {
     "data": {
      "text/html": [
       "<div>\n",
       "<style scoped>\n",
       "    .dataframe tbody tr th:only-of-type {\n",
       "        vertical-align: middle;\n",
       "    }\n",
       "\n",
       "    .dataframe tbody tr th {\n",
       "        vertical-align: top;\n",
       "    }\n",
       "\n",
       "    .dataframe thead th {\n",
       "        text-align: right;\n",
       "    }\n",
       "</style>\n",
       "<table border=\"1\" class=\"dataframe\">\n",
       "  <thead>\n",
       "    <tr style=\"text-align: right;\">\n",
       "      <th></th>\n",
       "      <th>ID</th>\n",
       "      <th>GENDER</th>\n",
       "      <th>RACE</th>\n",
       "      <th>CREDIT_SCORE</th>\n",
       "      <th>VEHICLE_OWNERSHIP</th>\n",
       "      <th>VEHICLE_YEAR</th>\n",
       "      <th>MARRIED</th>\n",
       "      <th>CHILDREN</th>\n",
       "      <th>POSTAL_CODE</th>\n",
       "      <th>ANNUAL_MILEAGE</th>\n",
       "      <th>...</th>\n",
       "      <th>10-19y</th>\n",
       "      <th>20-29y</th>\n",
       "      <th>30y+</th>\n",
       "      <th>high school</th>\n",
       "      <th>none</th>\n",
       "      <th>university</th>\n",
       "      <th>middle class</th>\n",
       "      <th>poverty</th>\n",
       "      <th>upper class</th>\n",
       "      <th>working class</th>\n",
       "    </tr>\n",
       "  </thead>\n",
       "  <tbody>\n",
       "    <tr>\n",
       "      <th>0</th>\n",
       "      <td>569520</td>\n",
       "      <td>0</td>\n",
       "      <td>0</td>\n",
       "      <td>0.629027</td>\n",
       "      <td>True</td>\n",
       "      <td>0</td>\n",
       "      <td>False</td>\n",
       "      <td>True</td>\n",
       "      <td>10238</td>\n",
       "      <td>12000.0</td>\n",
       "      <td>...</td>\n",
       "      <td>0</td>\n",
       "      <td>0</td>\n",
       "      <td>0</td>\n",
       "      <td>1</td>\n",
       "      <td>0</td>\n",
       "      <td>0</td>\n",
       "      <td>0</td>\n",
       "      <td>0</td>\n",
       "      <td>1</td>\n",
       "      <td>0</td>\n",
       "    </tr>\n",
       "    <tr>\n",
       "      <th>1</th>\n",
       "      <td>750365</td>\n",
       "      <td>1</td>\n",
       "      <td>0</td>\n",
       "      <td>0.357757</td>\n",
       "      <td>False</td>\n",
       "      <td>1</td>\n",
       "      <td>False</td>\n",
       "      <td>False</td>\n",
       "      <td>10238</td>\n",
       "      <td>16000.0</td>\n",
       "      <td>...</td>\n",
       "      <td>0</td>\n",
       "      <td>0</td>\n",
       "      <td>0</td>\n",
       "      <td>0</td>\n",
       "      <td>1</td>\n",
       "      <td>0</td>\n",
       "      <td>0</td>\n",
       "      <td>1</td>\n",
       "      <td>0</td>\n",
       "      <td>0</td>\n",
       "    </tr>\n",
       "    <tr>\n",
       "      <th>2</th>\n",
       "      <td>199901</td>\n",
       "      <td>0</td>\n",
       "      <td>0</td>\n",
       "      <td>0.493146</td>\n",
       "      <td>True</td>\n",
       "      <td>1</td>\n",
       "      <td>False</td>\n",
       "      <td>False</td>\n",
       "      <td>10238</td>\n",
       "      <td>11000.0</td>\n",
       "      <td>...</td>\n",
       "      <td>0</td>\n",
       "      <td>0</td>\n",
       "      <td>0</td>\n",
       "      <td>1</td>\n",
       "      <td>0</td>\n",
       "      <td>0</td>\n",
       "      <td>0</td>\n",
       "      <td>0</td>\n",
       "      <td>0</td>\n",
       "      <td>1</td>\n",
       "    </tr>\n",
       "    <tr>\n",
       "      <th>3</th>\n",
       "      <td>478866</td>\n",
       "      <td>1</td>\n",
       "      <td>0</td>\n",
       "      <td>0.206013</td>\n",
       "      <td>True</td>\n",
       "      <td>1</td>\n",
       "      <td>False</td>\n",
       "      <td>True</td>\n",
       "      <td>32765</td>\n",
       "      <td>11000.0</td>\n",
       "      <td>...</td>\n",
       "      <td>0</td>\n",
       "      <td>0</td>\n",
       "      <td>0</td>\n",
       "      <td>0</td>\n",
       "      <td>0</td>\n",
       "      <td>1</td>\n",
       "      <td>0</td>\n",
       "      <td>0</td>\n",
       "      <td>0</td>\n",
       "      <td>1</td>\n",
       "    </tr>\n",
       "    <tr>\n",
       "      <th>4</th>\n",
       "      <td>731664</td>\n",
       "      <td>1</td>\n",
       "      <td>0</td>\n",
       "      <td>0.388366</td>\n",
       "      <td>True</td>\n",
       "      <td>1</td>\n",
       "      <td>False</td>\n",
       "      <td>False</td>\n",
       "      <td>32765</td>\n",
       "      <td>12000.0</td>\n",
       "      <td>...</td>\n",
       "      <td>1</td>\n",
       "      <td>0</td>\n",
       "      <td>0</td>\n",
       "      <td>0</td>\n",
       "      <td>1</td>\n",
       "      <td>0</td>\n",
       "      <td>0</td>\n",
       "      <td>0</td>\n",
       "      <td>0</td>\n",
       "      <td>1</td>\n",
       "    </tr>\n",
       "  </tbody>\n",
       "</table>\n",
       "<p>5 rows × 30 columns</p>\n",
       "</div>"
      ],
      "text/plain": [
       "       ID  GENDER  RACE  CREDIT_SCORE  VEHICLE_OWNERSHIP  VEHICLE_YEAR  \\\n",
       "0  569520       0     0      0.629027               True             0   \n",
       "1  750365       1     0      0.357757              False             1   \n",
       "2  199901       0     0      0.493146               True             1   \n",
       "3  478866       1     0      0.206013               True             1   \n",
       "4  731664       1     0      0.388366               True             1   \n",
       "\n",
       "   MARRIED  CHILDREN  POSTAL_CODE  ANNUAL_MILEAGE  ...  10-19y  20-29y  30y+  \\\n",
       "0    False      True        10238         12000.0  ...       0       0     0   \n",
       "1    False     False        10238         16000.0  ...       0       0     0   \n",
       "2    False     False        10238         11000.0  ...       0       0     0   \n",
       "3    False      True        32765         11000.0  ...       0       0     0   \n",
       "4    False     False        32765         12000.0  ...       1       0     0   \n",
       "\n",
       "   high school  none  university  middle class  poverty  upper class  \\\n",
       "0            1     0           0             0        0            1   \n",
       "1            0     1           0             0        1            0   \n",
       "2            1     0           0             0        0            0   \n",
       "3            0     0           1             0        0            0   \n",
       "4            0     1           0             0        0            0   \n",
       "\n",
       "   working class  \n",
       "0              0  \n",
       "1              0  \n",
       "2              1  \n",
       "3              1  \n",
       "4              1  \n",
       "\n",
       "[5 rows x 30 columns]"
      ]
     },
     "execution_count": 23,
     "metadata": {},
     "output_type": "execute_result"
    }
   ],
   "source": [
    "data = pd.concat((data, AGE_dummies), axis=1)\n",
    "data = pd.concat((data, DRIVING_EXPERIENCE_dummies), axis=1)\n",
    "data = pd.concat((data, EDUCATION_dummies), axis=1)\n",
    "data = pd.concat((data, INCOME_dummies), axis=1)\n",
    "\n",
    "data = data.drop(['AGE'], axis=1)\n",
    "data = data.drop(['DRIVING_EXPERIENCE'], axis=1)\n",
    "data = data.drop(['EDUCATION'], axis=1)\n",
    "data = data.drop(['INCOME'], axis=1)\n",
    "data.head()"
   ]
  },
  {
   "cell_type": "markdown",
   "metadata": {},
   "source": [
    "### **5. Нормализация признаков**\n",
    "\n",
    "Многие алгоритмы машинного обучения чувствительны к масштабированию данных. К таким алгоритмам, например, относится метод ближайших соседей, машина опорных векторов и др.\n",
    "\n",
    "Выполним стандартизацию всех признаков:"
   ]
  },
  {
   "cell_type": "code",
   "execution_count": 24,
   "metadata": {},
   "outputs": [
    {
     "data": {
      "text/html": [
       "<div>\n",
       "<style scoped>\n",
       "    .dataframe tbody tr th:only-of-type {\n",
       "        vertical-align: middle;\n",
       "    }\n",
       "\n",
       "    .dataframe tbody tr th {\n",
       "        vertical-align: top;\n",
       "    }\n",
       "\n",
       "    .dataframe thead th {\n",
       "        text-align: right;\n",
       "    }\n",
       "</style>\n",
       "<table border=\"1\" class=\"dataframe\">\n",
       "  <thead>\n",
       "    <tr style=\"text-align: right;\">\n",
       "      <th></th>\n",
       "      <th>ID</th>\n",
       "      <th>GENDER</th>\n",
       "      <th>RACE</th>\n",
       "      <th>CREDIT_SCORE</th>\n",
       "      <th>VEHICLE_OWNERSHIP</th>\n",
       "      <th>VEHICLE_YEAR</th>\n",
       "      <th>MARRIED</th>\n",
       "      <th>CHILDREN</th>\n",
       "      <th>POSTAL_CODE</th>\n",
       "      <th>ANNUAL_MILEAGE</th>\n",
       "      <th>...</th>\n",
       "      <th>10-19y</th>\n",
       "      <th>20-29y</th>\n",
       "      <th>30y+</th>\n",
       "      <th>high school</th>\n",
       "      <th>none</th>\n",
       "      <th>university</th>\n",
       "      <th>middle class</th>\n",
       "      <th>poverty</th>\n",
       "      <th>upper class</th>\n",
       "      <th>working class</th>\n",
       "    </tr>\n",
       "  </thead>\n",
       "  <tbody>\n",
       "    <tr>\n",
       "      <th>count</th>\n",
       "      <td>10000.000000</td>\n",
       "      <td>10000.000000</td>\n",
       "      <td>10000.000000</td>\n",
       "      <td>10000.000000</td>\n",
       "      <td>10000.000000</td>\n",
       "      <td>10000.000000</td>\n",
       "      <td>10000.000000</td>\n",
       "      <td>10000.000000</td>\n",
       "      <td>10000.000000</td>\n",
       "      <td>10000.000000</td>\n",
       "      <td>...</td>\n",
       "      <td>10000.0000</td>\n",
       "      <td>10000.000000</td>\n",
       "      <td>10000.000000</td>\n",
       "      <td>10000.000000</td>\n",
       "      <td>10000.000000</td>\n",
       "      <td>10000.000000</td>\n",
       "      <td>10000.000000</td>\n",
       "      <td>10000.000000</td>\n",
       "      <td>10000.000000</td>\n",
       "      <td>10000.000000</td>\n",
       "    </tr>\n",
       "    <tr>\n",
       "      <th>mean</th>\n",
       "      <td>0.500483</td>\n",
       "      <td>0.499000</td>\n",
       "      <td>0.098800</td>\n",
       "      <td>0.510612</td>\n",
       "      <td>0.697000</td>\n",
       "      <td>0.696700</td>\n",
       "      <td>0.498200</td>\n",
       "      <td>0.688800</td>\n",
       "      <td>0.117593</td>\n",
       "      <td>0.486300</td>\n",
       "      <td>...</td>\n",
       "      <td>0.3299</td>\n",
       "      <td>0.211900</td>\n",
       "      <td>0.105200</td>\n",
       "      <td>0.415700</td>\n",
       "      <td>0.191500</td>\n",
       "      <td>0.392800</td>\n",
       "      <td>0.213800</td>\n",
       "      <td>0.181400</td>\n",
       "      <td>0.433600</td>\n",
       "      <td>0.171200</td>\n",
       "    </tr>\n",
       "    <tr>\n",
       "      <th>std</th>\n",
       "      <td>0.290067</td>\n",
       "      <td>0.500024</td>\n",
       "      <td>0.298408</td>\n",
       "      <td>0.144117</td>\n",
       "      <td>0.459578</td>\n",
       "      <td>0.459707</td>\n",
       "      <td>0.500022</td>\n",
       "      <td>0.463008</td>\n",
       "      <td>0.231064</td>\n",
       "      <td>0.134082</td>\n",
       "      <td>...</td>\n",
       "      <td>0.4702</td>\n",
       "      <td>0.408675</td>\n",
       "      <td>0.306826</td>\n",
       "      <td>0.492867</td>\n",
       "      <td>0.393501</td>\n",
       "      <td>0.488397</td>\n",
       "      <td>0.410008</td>\n",
       "      <td>0.385369</td>\n",
       "      <td>0.495596</td>\n",
       "      <td>0.376702</td>\n",
       "    </tr>\n",
       "    <tr>\n",
       "      <th>min</th>\n",
       "      <td>0.000000</td>\n",
       "      <td>0.000000</td>\n",
       "      <td>0.000000</td>\n",
       "      <td>0.000000</td>\n",
       "      <td>0.000000</td>\n",
       "      <td>0.000000</td>\n",
       "      <td>0.000000</td>\n",
       "      <td>0.000000</td>\n",
       "      <td>0.000000</td>\n",
       "      <td>0.000000</td>\n",
       "      <td>...</td>\n",
       "      <td>0.0000</td>\n",
       "      <td>0.000000</td>\n",
       "      <td>0.000000</td>\n",
       "      <td>0.000000</td>\n",
       "      <td>0.000000</td>\n",
       "      <td>0.000000</td>\n",
       "      <td>0.000000</td>\n",
       "      <td>0.000000</td>\n",
       "      <td>0.000000</td>\n",
       "      <td>0.000000</td>\n",
       "    </tr>\n",
       "    <tr>\n",
       "      <th>25%</th>\n",
       "      <td>0.249569</td>\n",
       "      <td>0.000000</td>\n",
       "      <td>0.000000</td>\n",
       "      <td>0.416714</td>\n",
       "      <td>0.000000</td>\n",
       "      <td>0.000000</td>\n",
       "      <td>0.000000</td>\n",
       "      <td>0.000000</td>\n",
       "      <td>0.000000</td>\n",
       "      <td>0.400000</td>\n",
       "      <td>...</td>\n",
       "      <td>0.0000</td>\n",
       "      <td>0.000000</td>\n",
       "      <td>0.000000</td>\n",
       "      <td>0.000000</td>\n",
       "      <td>0.000000</td>\n",
       "      <td>0.000000</td>\n",
       "      <td>0.000000</td>\n",
       "      <td>0.000000</td>\n",
       "      <td>0.000000</td>\n",
       "      <td>0.000000</td>\n",
       "    </tr>\n",
       "    <tr>\n",
       "      <th>50%</th>\n",
       "      <td>0.501739</td>\n",
       "      <td>0.000000</td>\n",
       "      <td>0.000000</td>\n",
       "      <td>0.519774</td>\n",
       "      <td>1.000000</td>\n",
       "      <td>1.000000</td>\n",
       "      <td>0.000000</td>\n",
       "      <td>1.000000</td>\n",
       "      <td>0.000000</td>\n",
       "      <td>0.500000</td>\n",
       "      <td>...</td>\n",
       "      <td>0.0000</td>\n",
       "      <td>0.000000</td>\n",
       "      <td>0.000000</td>\n",
       "      <td>0.000000</td>\n",
       "      <td>0.000000</td>\n",
       "      <td>0.000000</td>\n",
       "      <td>0.000000</td>\n",
       "      <td>0.000000</td>\n",
       "      <td>0.000000</td>\n",
       "      <td>0.000000</td>\n",
       "    </tr>\n",
       "    <tr>\n",
       "      <th>75%</th>\n",
       "      <td>0.753968</td>\n",
       "      <td>1.000000</td>\n",
       "      <td>0.000000</td>\n",
       "      <td>0.610769</td>\n",
       "      <td>1.000000</td>\n",
       "      <td>1.000000</td>\n",
       "      <td>1.000000</td>\n",
       "      <td>1.000000</td>\n",
       "      <td>0.275179</td>\n",
       "      <td>0.550000</td>\n",
       "      <td>...</td>\n",
       "      <td>1.0000</td>\n",
       "      <td>0.000000</td>\n",
       "      <td>0.000000</td>\n",
       "      <td>1.000000</td>\n",
       "      <td>0.000000</td>\n",
       "      <td>1.000000</td>\n",
       "      <td>0.000000</td>\n",
       "      <td>0.000000</td>\n",
       "      <td>1.000000</td>\n",
       "      <td>0.000000</td>\n",
       "    </tr>\n",
       "    <tr>\n",
       "      <th>max</th>\n",
       "      <td>1.000000</td>\n",
       "      <td>1.000000</td>\n",
       "      <td>1.000000</td>\n",
       "      <td>1.000000</td>\n",
       "      <td>1.000000</td>\n",
       "      <td>1.000000</td>\n",
       "      <td>1.000000</td>\n",
       "      <td>1.000000</td>\n",
       "      <td>1.000000</td>\n",
       "      <td>1.000000</td>\n",
       "      <td>...</td>\n",
       "      <td>1.0000</td>\n",
       "      <td>1.000000</td>\n",
       "      <td>1.000000</td>\n",
       "      <td>1.000000</td>\n",
       "      <td>1.000000</td>\n",
       "      <td>1.000000</td>\n",
       "      <td>1.000000</td>\n",
       "      <td>1.000000</td>\n",
       "      <td>1.000000</td>\n",
       "      <td>1.000000</td>\n",
       "    </tr>\n",
       "  </tbody>\n",
       "</table>\n",
       "<p>8 rows × 30 columns</p>\n",
       "</div>"
      ],
      "text/plain": [
       "                 ID        GENDER          RACE  CREDIT_SCORE  \\\n",
       "count  10000.000000  10000.000000  10000.000000  10000.000000   \n",
       "mean       0.500483      0.499000      0.098800      0.510612   \n",
       "std        0.290067      0.500024      0.298408      0.144117   \n",
       "min        0.000000      0.000000      0.000000      0.000000   \n",
       "25%        0.249569      0.000000      0.000000      0.416714   \n",
       "50%        0.501739      0.000000      0.000000      0.519774   \n",
       "75%        0.753968      1.000000      0.000000      0.610769   \n",
       "max        1.000000      1.000000      1.000000      1.000000   \n",
       "\n",
       "       VEHICLE_OWNERSHIP  VEHICLE_YEAR       MARRIED      CHILDREN  \\\n",
       "count       10000.000000  10000.000000  10000.000000  10000.000000   \n",
       "mean            0.697000      0.696700      0.498200      0.688800   \n",
       "std             0.459578      0.459707      0.500022      0.463008   \n",
       "min             0.000000      0.000000      0.000000      0.000000   \n",
       "25%             0.000000      0.000000      0.000000      0.000000   \n",
       "50%             1.000000      1.000000      0.000000      1.000000   \n",
       "75%             1.000000      1.000000      1.000000      1.000000   \n",
       "max             1.000000      1.000000      1.000000      1.000000   \n",
       "\n",
       "        POSTAL_CODE  ANNUAL_MILEAGE  ...      10-19y        20-29y  \\\n",
       "count  10000.000000    10000.000000  ...  10000.0000  10000.000000   \n",
       "mean       0.117593        0.486300  ...      0.3299      0.211900   \n",
       "std        0.231064        0.134082  ...      0.4702      0.408675   \n",
       "min        0.000000        0.000000  ...      0.0000      0.000000   \n",
       "25%        0.000000        0.400000  ...      0.0000      0.000000   \n",
       "50%        0.000000        0.500000  ...      0.0000      0.000000   \n",
       "75%        0.275179        0.550000  ...      1.0000      0.000000   \n",
       "max        1.000000        1.000000  ...      1.0000      1.000000   \n",
       "\n",
       "               30y+   high school          none    university  middle class  \\\n",
       "count  10000.000000  10000.000000  10000.000000  10000.000000  10000.000000   \n",
       "mean       0.105200      0.415700      0.191500      0.392800      0.213800   \n",
       "std        0.306826      0.492867      0.393501      0.488397      0.410008   \n",
       "min        0.000000      0.000000      0.000000      0.000000      0.000000   \n",
       "25%        0.000000      0.000000      0.000000      0.000000      0.000000   \n",
       "50%        0.000000      0.000000      0.000000      0.000000      0.000000   \n",
       "75%        0.000000      1.000000      0.000000      1.000000      0.000000   \n",
       "max        1.000000      1.000000      1.000000      1.000000      1.000000   \n",
       "\n",
       "            poverty   upper class  working class  \n",
       "count  10000.000000  10000.000000   10000.000000  \n",
       "mean       0.181400      0.433600       0.171200  \n",
       "std        0.385369      0.495596       0.376702  \n",
       "min        0.000000      0.000000       0.000000  \n",
       "25%        0.000000      0.000000       0.000000  \n",
       "50%        0.000000      0.000000       0.000000  \n",
       "75%        0.000000      1.000000       0.000000  \n",
       "max        1.000000      1.000000       1.000000  \n",
       "\n",
       "[8 rows x 30 columns]"
      ]
     },
     "execution_count": 24,
     "metadata": {},
     "output_type": "execute_result"
    }
   ],
   "source": [
    "data_stand = (data - data.min(axis=0)) / (data.max(axis=0) - data.min(axis=0))\n",
    "data_stand.describe()"
   ]
  },
  {
   "cell_type": "markdown",
   "metadata": {},
   "source": [
    "### **6. Разбиение данных на обучающуюю и тестовую выборки**\n",
    "\n",
    "Для предсказания признака \"OUTCOME\" будем использовать все входные признаки, кроме \"ID\":"
   ]
  },
  {
   "cell_type": "code",
   "execution_count": 25,
   "metadata": {},
   "outputs": [],
   "source": [
    "X = data_stand.drop([\"ID\", \"OUTCOME\"], axis=1)\n",
    "y = data[\"OUTCOME\"]"
   ]
  },
  {
   "cell_type": "markdown",
   "metadata": {},
   "source": [
    "Разобьем данные на обучающую и тестовую выборки в пропорции 3:1 (75% - обучающая выборка, 25% - тестовая):"
   ]
  },
  {
   "cell_type": "code",
   "execution_count": 26,
   "metadata": {},
   "outputs": [
    {
     "data": {
      "text/plain": [
       "(7500, 2500)"
      ]
     },
     "execution_count": 26,
     "metadata": {},
     "output_type": "execute_result"
    }
   ],
   "source": [
    "from sklearn.model_selection import train_test_split\n",
    "X_train, X_test, y_train, y_test = train_test_split(X, y, test_size = 0.25, random_state = 42)\n",
    "\n",
    "N_train, _ = X_train.shape \n",
    "N_test,  _ = X_test.shape \n",
    "\n",
    "N_train, N_test"
   ]
  },
  {
   "cell_type": "markdown",
   "metadata": {},
   "source": [
    "### **7. Метод k-ближайших соседей**"
   ]
  },
  {
   "cell_type": "markdown",
   "metadata": {},
   "source": [
    "Запустим классификатор с количеством соседей k = 1, 3, 5, 10, 15, 20 и вычислим точность:"
   ]
  },
  {
   "cell_type": "code",
   "execution_count": 46,
   "metadata": {},
   "outputs": [
    {
     "name": "stdout",
     "output_type": "stream",
     "text": [
      "Accuracy\n",
      "01:train: 99.97% \n",
      "01:test:  78.16%\n"
     ]
    }
   ],
   "source": [
    "from sklearn.neighbors import KNeighborsClassifier\n",
    "\n",
    "knn_1= KNeighborsClassifier(n_neighbors = 1)\n",
    "knn_1.fit(X_train, y_train)\n",
    "knn_1train = knn_1.score(X_train, y_train)\n",
    "knn_1test = knn_1.score(X_test, y_test)\n",
    "print(\"Accuracy\\n01:train: {:.2f}% \\n01:test:  {:.2f}%\".format(knn_1train*100, knn_1test*100))"
   ]
  },
  {
   "cell_type": "code",
   "execution_count": 47,
   "metadata": {},
   "outputs": [
    {
     "name": "stdout",
     "output_type": "stream",
     "text": [
      "Accuracy\n",
      "03:train: 88.85% \n",
      "03:test:  79.88%\n"
     ]
    }
   ],
   "source": [
    "knn_3 = KNeighborsClassifier(n_neighbors = 3)\n",
    "knn_3.fit(X_train, y_train)\n",
    "knn_3train = knn_3.score(X_train, y_train)\n",
    "knn_3test = knn_3.score(X_test, y_test)\n",
    "print(\"Accuracy\\n03:train: {:.2f}% \\n03:test:  {:.2f}%\".format(knn_3train*100, knn_3test*100))"
   ]
  },
  {
   "cell_type": "code",
   "execution_count": 48,
   "metadata": {},
   "outputs": [
    {
     "name": "stdout",
     "output_type": "stream",
     "text": [
      "Accuracy\n",
      "05:train: 87.08% \n",
      "05:test:  80.04%\n"
     ]
    }
   ],
   "source": [
    "knn_5 = KNeighborsClassifier(n_neighbors = 5)\n",
    "knn_5.fit(X_train, y_train)\n",
    "knn_5train = knn_5.score(X_train, y_train)\n",
    "knn_5test = knn_5.score(X_test, y_test)\n",
    "print(\"Accuracy\\n05:train: {:.2f}% \\n05:test:  {:.2f}%\".format(knn_5train*100, knn_5test*100))"
   ]
  },
  {
   "cell_type": "code",
   "execution_count": 49,
   "metadata": {},
   "outputs": [
    {
     "name": "stdout",
     "output_type": "stream",
     "text": [
      "Accuracy\n",
      "10:train: 85.16% \n",
      "10:test:  81.60%\n"
     ]
    }
   ],
   "source": [
    "knn_10 = KNeighborsClassifier(n_neighbors = 10)\n",
    "knn_10.fit(X_train, y_train)\n",
    "knn_10train = knn_10.score(X_train, y_train)\n",
    "knn_10test = knn_10.score(X_test, y_test)\n",
    "print(\"Accuracy\\n10:train: {:.2f}% \\n10:test:  {:.2f}%\".format(knn_10train*100, knn_10test*100))"
   ]
  },
  {
   "cell_type": "code",
   "execution_count": 50,
   "metadata": {},
   "outputs": [
    {
     "name": "stdout",
     "output_type": "stream",
     "text": [
      "Accuracy\n",
      "15:train: 84.23% \n",
      "15:test:  82.28%\n"
     ]
    }
   ],
   "source": [
    "knn_15 = KNeighborsClassifier(n_neighbors = 15)\n",
    "knn_15.fit(X_train, y_train)\n",
    "knn_15train = knn_15.score(X_train, y_train)\n",
    "knn_15test = knn_15.score(X_test, y_test)\n",
    "print(\"Accuracy\\n15:train: {:.2f}% \\n15:test:  {:.2f}%\".format(knn_15train*100, knn_15test*100))"
   ]
  },
  {
   "cell_type": "code",
   "execution_count": 51,
   "metadata": {},
   "outputs": [
    {
     "name": "stdout",
     "output_type": "stream",
     "text": [
      "Accuracy\n",
      "20:train: 83.80% \n",
      "20:test:  82.20%\n"
     ]
    }
   ],
   "source": [
    "knn_20 = KNeighborsClassifier(n_neighbors = 20)\n",
    "knn_20.fit(X_train, y_train)\n",
    "knn_20train = knn_20.score(X_train, y_train)\n",
    "knn_20test = knn_20.score(X_test, y_test)\n",
    "print(\"Accuracy\\n20:train: {:.2f}% \\n20:test:  {:.2f}%\".format(knn_20train*100, knn_20test*100))"
   ]
  },
  {
   "cell_type": "markdown",
   "metadata": {},
   "source": [
    "Посмотрим confusion matrix для лучшей по точности модели из 20 соседей:"
   ]
  },
  {
   "cell_type": "code",
   "execution_count": 58,
   "metadata": {},
   "outputs": [
    {
     "data": {
      "text/plain": [
       "array([[1554,  169],\n",
       "       [ 276,  501]], dtype=int64)"
      ]
     },
     "execution_count": 58,
     "metadata": {},
     "output_type": "execute_result"
    }
   ],
   "source": [
    "from sklearn.metrics import confusion_matrix\n",
    "confusion_matrix(y_test, knn_20.predict(X_test))"
   ]
  },
  {
   "cell_type": "markdown",
   "metadata": {},
   "source": [
    "### **Вывод**\n",
    "\n",
    "В наступлении страхового случая доля случайности велика и предсказать наверняка, наступит такой случай или нет невозможно. Это объясняет достаточно высокий процент ошибок(~18%) при самом оптимальном параметре. Кроме того, возможно, при составлении таблицы автор учел не все влияющие на исход признаки. Возможно улучшить результати поможет использованние другого классификатора или расширение числа признаков."
   ]
  },
  {
   "cell_type": "markdown",
   "metadata": {},
   "source": [
    "### **9. Метод Random Forest**"
   ]
  },
  {
   "cell_type": "code",
   "execution_count": 27,
   "metadata": {},
   "outputs": [
    {
     "name": "stdout",
     "output_type": "stream",
     "text": [
      "Accuracy\n",
      "rf:train: 99.97% \n",
      "rf:test:  82.84%\n"
     ]
    }
   ],
   "source": [
    "from sklearn import ensemble\n",
    "rf = ensemble.RandomForestClassifier(n_estimators = 1000)\n",
    "rf.fit(X_train, y_train)\n",
    "\n",
    "rf_train = rf.score(X_train, y_train)\n",
    "rf_test = rf.score(X_test, y_test)\n",
    "print(\"Accuracy\\nrf:train: {:.2f}% \\nrf:test:  {:.2f}%\".format(rf_train*100, rf_test*100))"
   ]
  },
  {
   "cell_type": "code",
   "execution_count": 30,
   "metadata": {},
   "outputs": [
    {
     "data": {
      "text/plain": [
       "array([[1546,  177],\n",
       "       [ 252,  525]], dtype=int64)"
      ]
     },
     "execution_count": 30,
     "metadata": {},
     "output_type": "execute_result"
    }
   ],
   "source": [
    "from sklearn.metrics import confusion_matrix\n",
    "confusion_matrix(y_test, rf.predict(X_test))"
   ]
  },
  {
   "cell_type": "markdown",
   "metadata": {},
   "source": [
    "По результатам видно, что при применение метода Random Forest ошибки на тестовой и обучающей выборках сильно разняться. И в данном случае лучше использовать метод kNN."
   ]
  },
  {
   "cell_type": "markdown",
   "metadata": {},
   "source": [
    "### **10. Общие выводы**\n",
    "\n",
    "В результате проделанной работы была решена задача классификации с помощью метода К-ближайших соседей и метода Random Forest, а также была выполнена визуализация и вычисление основных характеристик, обработка пропущенных значений, обработка категориальных признаков, нормализация признаков, разбиение данных на тестовую и обучающую выборки. На основе проделанной работы можно сказать, что наиболее важным является не повышение общей точности, а правильность предсказания. Эта задача не является простой, очень велик случайный фактор, а все данные, которые есть у страховой не в полной мере влияют на исход. Отсюда достаточно большой процент ошибки в методах kNN и Random Forest."
   ]
  }
 ],
 "metadata": {
  "kernelspec": {
   "display_name": "Python 3",
   "language": "python",
   "name": "python3"
  }
 },
 "nbformat": 4,
 "nbformat_minor": 4
}
